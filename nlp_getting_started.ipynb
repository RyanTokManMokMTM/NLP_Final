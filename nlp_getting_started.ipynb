{
  "nbformat": 4,
  "nbformat_minor": 0,
  "metadata": {
    "colab": {
      "name": "nlp-getting-started.ipynb",
      "provenance": [],
      "authorship_tag": "ABX9TyPhRbmqY1vyfhRgC1rH4JSV",
      "include_colab_link": true
    },
    "kernelspec": {
      "name": "python3",
      "display_name": "Python 3"
    },
    "language_info": {
      "name": "python"
    },
    "accelerator": "GPU",
    "widgets": {
      "application/vnd.jupyter.widget-state+json": {
        "9ff3b047b7ee4a6eb6565a07430dc947": {
          "model_module": "@jupyter-widgets/controls",
          "model_name": "HBoxModel",
          "model_module_version": "1.5.0",
          "state": {
            "_view_name": "HBoxView",
            "_dom_classes": [],
            "_model_name": "HBoxModel",
            "_view_module": "@jupyter-widgets/controls",
            "_model_module_version": "1.5.0",
            "_view_count": null,
            "_view_module_version": "1.5.0",
            "box_style": "",
            "layout": "IPY_MODEL_f4826d5421254571a648f31e77b5daf5",
            "_model_module": "@jupyter-widgets/controls",
            "children": [
              "IPY_MODEL_c3725f0af71c4c31a49a04d20fb25610",
              "IPY_MODEL_678f56810f8f459b8bfdf08c956b7aaa",
              "IPY_MODEL_1f964fd8fe5643efa0c032b5ff1a6e40"
            ]
          }
        },
        "f4826d5421254571a648f31e77b5daf5": {
          "model_module": "@jupyter-widgets/base",
          "model_name": "LayoutModel",
          "model_module_version": "1.2.0",
          "state": {
            "_view_name": "LayoutView",
            "grid_template_rows": null,
            "right": null,
            "justify_content": null,
            "_view_module": "@jupyter-widgets/base",
            "overflow": null,
            "_model_module_version": "1.2.0",
            "_view_count": null,
            "flex_flow": null,
            "width": null,
            "min_width": null,
            "border": null,
            "align_items": null,
            "bottom": null,
            "_model_module": "@jupyter-widgets/base",
            "top": null,
            "grid_column": null,
            "overflow_y": null,
            "overflow_x": null,
            "grid_auto_flow": null,
            "grid_area": null,
            "grid_template_columns": null,
            "flex": null,
            "_model_name": "LayoutModel",
            "justify_items": null,
            "grid_row": null,
            "max_height": null,
            "align_content": null,
            "visibility": null,
            "align_self": null,
            "height": null,
            "min_height": null,
            "padding": null,
            "grid_auto_rows": null,
            "grid_gap": null,
            "max_width": null,
            "order": null,
            "_view_module_version": "1.2.0",
            "grid_template_areas": null,
            "object_position": null,
            "object_fit": null,
            "grid_auto_columns": null,
            "margin": null,
            "display": null,
            "left": null
          }
        },
        "c3725f0af71c4c31a49a04d20fb25610": {
          "model_module": "@jupyter-widgets/controls",
          "model_name": "HTMLModel",
          "model_module_version": "1.5.0",
          "state": {
            "_view_name": "HTMLView",
            "style": "IPY_MODEL_47f975404deb4910bb79d6fe23b2bd1d",
            "_dom_classes": [],
            "description": "",
            "_model_name": "HTMLModel",
            "placeholder": "​",
            "_view_module": "@jupyter-widgets/controls",
            "_model_module_version": "1.5.0",
            "value": "Downloading: 100%",
            "_view_count": null,
            "_view_module_version": "1.5.0",
            "description_tooltip": null,
            "_model_module": "@jupyter-widgets/controls",
            "layout": "IPY_MODEL_c35413eccf21461abbfa2c255abf31af"
          }
        },
        "678f56810f8f459b8bfdf08c956b7aaa": {
          "model_module": "@jupyter-widgets/controls",
          "model_name": "FloatProgressModel",
          "model_module_version": "1.5.0",
          "state": {
            "_view_name": "ProgressView",
            "style": "IPY_MODEL_947f3f13ffe743f0be99ef3084be4fa0",
            "_dom_classes": [],
            "description": "",
            "_model_name": "FloatProgressModel",
            "bar_style": "success",
            "max": 231508,
            "_view_module": "@jupyter-widgets/controls",
            "_model_module_version": "1.5.0",
            "value": 231508,
            "_view_count": null,
            "_view_module_version": "1.5.0",
            "orientation": "horizontal",
            "min": 0,
            "description_tooltip": null,
            "_model_module": "@jupyter-widgets/controls",
            "layout": "IPY_MODEL_6c5a724d6003419196c19cc59ef406c2"
          }
        },
        "1f964fd8fe5643efa0c032b5ff1a6e40": {
          "model_module": "@jupyter-widgets/controls",
          "model_name": "HTMLModel",
          "model_module_version": "1.5.0",
          "state": {
            "_view_name": "HTMLView",
            "style": "IPY_MODEL_638aabedd5614e7fa5ba32192bf38926",
            "_dom_classes": [],
            "description": "",
            "_model_name": "HTMLModel",
            "placeholder": "​",
            "_view_module": "@jupyter-widgets/controls",
            "_model_module_version": "1.5.0",
            "value": " 232k/232k [00:00&lt;00:00, 466kB/s]",
            "_view_count": null,
            "_view_module_version": "1.5.0",
            "description_tooltip": null,
            "_model_module": "@jupyter-widgets/controls",
            "layout": "IPY_MODEL_7f1d5104082e41d4b0d82cf6cf77f672"
          }
        },
        "47f975404deb4910bb79d6fe23b2bd1d": {
          "model_module": "@jupyter-widgets/controls",
          "model_name": "DescriptionStyleModel",
          "model_module_version": "1.5.0",
          "state": {
            "_view_name": "StyleView",
            "_model_name": "DescriptionStyleModel",
            "description_width": "",
            "_view_module": "@jupyter-widgets/base",
            "_model_module_version": "1.5.0",
            "_view_count": null,
            "_view_module_version": "1.2.0",
            "_model_module": "@jupyter-widgets/controls"
          }
        },
        "c35413eccf21461abbfa2c255abf31af": {
          "model_module": "@jupyter-widgets/base",
          "model_name": "LayoutModel",
          "model_module_version": "1.2.0",
          "state": {
            "_view_name": "LayoutView",
            "grid_template_rows": null,
            "right": null,
            "justify_content": null,
            "_view_module": "@jupyter-widgets/base",
            "overflow": null,
            "_model_module_version": "1.2.0",
            "_view_count": null,
            "flex_flow": null,
            "width": null,
            "min_width": null,
            "border": null,
            "align_items": null,
            "bottom": null,
            "_model_module": "@jupyter-widgets/base",
            "top": null,
            "grid_column": null,
            "overflow_y": null,
            "overflow_x": null,
            "grid_auto_flow": null,
            "grid_area": null,
            "grid_template_columns": null,
            "flex": null,
            "_model_name": "LayoutModel",
            "justify_items": null,
            "grid_row": null,
            "max_height": null,
            "align_content": null,
            "visibility": null,
            "align_self": null,
            "height": null,
            "min_height": null,
            "padding": null,
            "grid_auto_rows": null,
            "grid_gap": null,
            "max_width": null,
            "order": null,
            "_view_module_version": "1.2.0",
            "grid_template_areas": null,
            "object_position": null,
            "object_fit": null,
            "grid_auto_columns": null,
            "margin": null,
            "display": null,
            "left": null
          }
        },
        "947f3f13ffe743f0be99ef3084be4fa0": {
          "model_module": "@jupyter-widgets/controls",
          "model_name": "ProgressStyleModel",
          "model_module_version": "1.5.0",
          "state": {
            "_view_name": "StyleView",
            "_model_name": "ProgressStyleModel",
            "description_width": "",
            "_view_module": "@jupyter-widgets/base",
            "_model_module_version": "1.5.0",
            "_view_count": null,
            "_view_module_version": "1.2.0",
            "bar_color": null,
            "_model_module": "@jupyter-widgets/controls"
          }
        },
        "6c5a724d6003419196c19cc59ef406c2": {
          "model_module": "@jupyter-widgets/base",
          "model_name": "LayoutModel",
          "model_module_version": "1.2.0",
          "state": {
            "_view_name": "LayoutView",
            "grid_template_rows": null,
            "right": null,
            "justify_content": null,
            "_view_module": "@jupyter-widgets/base",
            "overflow": null,
            "_model_module_version": "1.2.0",
            "_view_count": null,
            "flex_flow": null,
            "width": null,
            "min_width": null,
            "border": null,
            "align_items": null,
            "bottom": null,
            "_model_module": "@jupyter-widgets/base",
            "top": null,
            "grid_column": null,
            "overflow_y": null,
            "overflow_x": null,
            "grid_auto_flow": null,
            "grid_area": null,
            "grid_template_columns": null,
            "flex": null,
            "_model_name": "LayoutModel",
            "justify_items": null,
            "grid_row": null,
            "max_height": null,
            "align_content": null,
            "visibility": null,
            "align_self": null,
            "height": null,
            "min_height": null,
            "padding": null,
            "grid_auto_rows": null,
            "grid_gap": null,
            "max_width": null,
            "order": null,
            "_view_module_version": "1.2.0",
            "grid_template_areas": null,
            "object_position": null,
            "object_fit": null,
            "grid_auto_columns": null,
            "margin": null,
            "display": null,
            "left": null
          }
        },
        "638aabedd5614e7fa5ba32192bf38926": {
          "model_module": "@jupyter-widgets/controls",
          "model_name": "DescriptionStyleModel",
          "model_module_version": "1.5.0",
          "state": {
            "_view_name": "StyleView",
            "_model_name": "DescriptionStyleModel",
            "description_width": "",
            "_view_module": "@jupyter-widgets/base",
            "_model_module_version": "1.5.0",
            "_view_count": null,
            "_view_module_version": "1.2.0",
            "_model_module": "@jupyter-widgets/controls"
          }
        },
        "7f1d5104082e41d4b0d82cf6cf77f672": {
          "model_module": "@jupyter-widgets/base",
          "model_name": "LayoutModel",
          "model_module_version": "1.2.0",
          "state": {
            "_view_name": "LayoutView",
            "grid_template_rows": null,
            "right": null,
            "justify_content": null,
            "_view_module": "@jupyter-widgets/base",
            "overflow": null,
            "_model_module_version": "1.2.0",
            "_view_count": null,
            "flex_flow": null,
            "width": null,
            "min_width": null,
            "border": null,
            "align_items": null,
            "bottom": null,
            "_model_module": "@jupyter-widgets/base",
            "top": null,
            "grid_column": null,
            "overflow_y": null,
            "overflow_x": null,
            "grid_auto_flow": null,
            "grid_area": null,
            "grid_template_columns": null,
            "flex": null,
            "_model_name": "LayoutModel",
            "justify_items": null,
            "grid_row": null,
            "max_height": null,
            "align_content": null,
            "visibility": null,
            "align_self": null,
            "height": null,
            "min_height": null,
            "padding": null,
            "grid_auto_rows": null,
            "grid_gap": null,
            "max_width": null,
            "order": null,
            "_view_module_version": "1.2.0",
            "grid_template_areas": null,
            "object_position": null,
            "object_fit": null,
            "grid_auto_columns": null,
            "margin": null,
            "display": null,
            "left": null
          }
        },
        "efc7dd453024433a9783e62880def4c5": {
          "model_module": "@jupyter-widgets/controls",
          "model_name": "HBoxModel",
          "model_module_version": "1.5.0",
          "state": {
            "_view_name": "HBoxView",
            "_dom_classes": [],
            "_model_name": "HBoxModel",
            "_view_module": "@jupyter-widgets/controls",
            "_model_module_version": "1.5.0",
            "_view_count": null,
            "_view_module_version": "1.5.0",
            "box_style": "",
            "layout": "IPY_MODEL_e85830e68dc1490fb744dc52bfd40628",
            "_model_module": "@jupyter-widgets/controls",
            "children": [
              "IPY_MODEL_2c6a31d1499b474b9ae09c11e318b0b3",
              "IPY_MODEL_dccb78bfac2f45f5ae08b176e2d94c02",
              "IPY_MODEL_8bb21fd58ebe4ee38284be9c6801d447"
            ]
          }
        },
        "e85830e68dc1490fb744dc52bfd40628": {
          "model_module": "@jupyter-widgets/base",
          "model_name": "LayoutModel",
          "model_module_version": "1.2.0",
          "state": {
            "_view_name": "LayoutView",
            "grid_template_rows": null,
            "right": null,
            "justify_content": null,
            "_view_module": "@jupyter-widgets/base",
            "overflow": null,
            "_model_module_version": "1.2.0",
            "_view_count": null,
            "flex_flow": null,
            "width": null,
            "min_width": null,
            "border": null,
            "align_items": null,
            "bottom": null,
            "_model_module": "@jupyter-widgets/base",
            "top": null,
            "grid_column": null,
            "overflow_y": null,
            "overflow_x": null,
            "grid_auto_flow": null,
            "grid_area": null,
            "grid_template_columns": null,
            "flex": null,
            "_model_name": "LayoutModel",
            "justify_items": null,
            "grid_row": null,
            "max_height": null,
            "align_content": null,
            "visibility": null,
            "align_self": null,
            "height": null,
            "min_height": null,
            "padding": null,
            "grid_auto_rows": null,
            "grid_gap": null,
            "max_width": null,
            "order": null,
            "_view_module_version": "1.2.0",
            "grid_template_areas": null,
            "object_position": null,
            "object_fit": null,
            "grid_auto_columns": null,
            "margin": null,
            "display": null,
            "left": null
          }
        },
        "2c6a31d1499b474b9ae09c11e318b0b3": {
          "model_module": "@jupyter-widgets/controls",
          "model_name": "HTMLModel",
          "model_module_version": "1.5.0",
          "state": {
            "_view_name": "HTMLView",
            "style": "IPY_MODEL_175a3687f34549fe99140e8532cb0725",
            "_dom_classes": [],
            "description": "",
            "_model_name": "HTMLModel",
            "placeholder": "​",
            "_view_module": "@jupyter-widgets/controls",
            "_model_module_version": "1.5.0",
            "value": "Downloading: 100%",
            "_view_count": null,
            "_view_module_version": "1.5.0",
            "description_tooltip": null,
            "_model_module": "@jupyter-widgets/controls",
            "layout": "IPY_MODEL_3f9b80de68f543cebc15db27927af807"
          }
        },
        "dccb78bfac2f45f5ae08b176e2d94c02": {
          "model_module": "@jupyter-widgets/controls",
          "model_name": "FloatProgressModel",
          "model_module_version": "1.5.0",
          "state": {
            "_view_name": "ProgressView",
            "style": "IPY_MODEL_657c4f3246764365bd59cbdc8324512d",
            "_dom_classes": [],
            "description": "",
            "_model_name": "FloatProgressModel",
            "bar_style": "success",
            "max": 433,
            "_view_module": "@jupyter-widgets/controls",
            "_model_module_version": "1.5.0",
            "value": 433,
            "_view_count": null,
            "_view_module_version": "1.5.0",
            "orientation": "horizontal",
            "min": 0,
            "description_tooltip": null,
            "_model_module": "@jupyter-widgets/controls",
            "layout": "IPY_MODEL_affe37c8b05048fd9b41f525b905a155"
          }
        },
        "8bb21fd58ebe4ee38284be9c6801d447": {
          "model_module": "@jupyter-widgets/controls",
          "model_name": "HTMLModel",
          "model_module_version": "1.5.0",
          "state": {
            "_view_name": "HTMLView",
            "style": "IPY_MODEL_6e56faf1646f42399b82cd61514766ea",
            "_dom_classes": [],
            "description": "",
            "_model_name": "HTMLModel",
            "placeholder": "​",
            "_view_module": "@jupyter-widgets/controls",
            "_model_module_version": "1.5.0",
            "value": " 433/433 [00:00&lt;00:00, 9.91kB/s]",
            "_view_count": null,
            "_view_module_version": "1.5.0",
            "description_tooltip": null,
            "_model_module": "@jupyter-widgets/controls",
            "layout": "IPY_MODEL_50eefa3913d74a3e8b9448767082265a"
          }
        },
        "175a3687f34549fe99140e8532cb0725": {
          "model_module": "@jupyter-widgets/controls",
          "model_name": "DescriptionStyleModel",
          "model_module_version": "1.5.0",
          "state": {
            "_view_name": "StyleView",
            "_model_name": "DescriptionStyleModel",
            "description_width": "",
            "_view_module": "@jupyter-widgets/base",
            "_model_module_version": "1.5.0",
            "_view_count": null,
            "_view_module_version": "1.2.0",
            "_model_module": "@jupyter-widgets/controls"
          }
        },
        "3f9b80de68f543cebc15db27927af807": {
          "model_module": "@jupyter-widgets/base",
          "model_name": "LayoutModel",
          "model_module_version": "1.2.0",
          "state": {
            "_view_name": "LayoutView",
            "grid_template_rows": null,
            "right": null,
            "justify_content": null,
            "_view_module": "@jupyter-widgets/base",
            "overflow": null,
            "_model_module_version": "1.2.0",
            "_view_count": null,
            "flex_flow": null,
            "width": null,
            "min_width": null,
            "border": null,
            "align_items": null,
            "bottom": null,
            "_model_module": "@jupyter-widgets/base",
            "top": null,
            "grid_column": null,
            "overflow_y": null,
            "overflow_x": null,
            "grid_auto_flow": null,
            "grid_area": null,
            "grid_template_columns": null,
            "flex": null,
            "_model_name": "LayoutModel",
            "justify_items": null,
            "grid_row": null,
            "max_height": null,
            "align_content": null,
            "visibility": null,
            "align_self": null,
            "height": null,
            "min_height": null,
            "padding": null,
            "grid_auto_rows": null,
            "grid_gap": null,
            "max_width": null,
            "order": null,
            "_view_module_version": "1.2.0",
            "grid_template_areas": null,
            "object_position": null,
            "object_fit": null,
            "grid_auto_columns": null,
            "margin": null,
            "display": null,
            "left": null
          }
        },
        "657c4f3246764365bd59cbdc8324512d": {
          "model_module": "@jupyter-widgets/controls",
          "model_name": "ProgressStyleModel",
          "model_module_version": "1.5.0",
          "state": {
            "_view_name": "StyleView",
            "_model_name": "ProgressStyleModel",
            "description_width": "",
            "_view_module": "@jupyter-widgets/base",
            "_model_module_version": "1.5.0",
            "_view_count": null,
            "_view_module_version": "1.2.0",
            "bar_color": null,
            "_model_module": "@jupyter-widgets/controls"
          }
        },
        "affe37c8b05048fd9b41f525b905a155": {
          "model_module": "@jupyter-widgets/base",
          "model_name": "LayoutModel",
          "model_module_version": "1.2.0",
          "state": {
            "_view_name": "LayoutView",
            "grid_template_rows": null,
            "right": null,
            "justify_content": null,
            "_view_module": "@jupyter-widgets/base",
            "overflow": null,
            "_model_module_version": "1.2.0",
            "_view_count": null,
            "flex_flow": null,
            "width": null,
            "min_width": null,
            "border": null,
            "align_items": null,
            "bottom": null,
            "_model_module": "@jupyter-widgets/base",
            "top": null,
            "grid_column": null,
            "overflow_y": null,
            "overflow_x": null,
            "grid_auto_flow": null,
            "grid_area": null,
            "grid_template_columns": null,
            "flex": null,
            "_model_name": "LayoutModel",
            "justify_items": null,
            "grid_row": null,
            "max_height": null,
            "align_content": null,
            "visibility": null,
            "align_self": null,
            "height": null,
            "min_height": null,
            "padding": null,
            "grid_auto_rows": null,
            "grid_gap": null,
            "max_width": null,
            "order": null,
            "_view_module_version": "1.2.0",
            "grid_template_areas": null,
            "object_position": null,
            "object_fit": null,
            "grid_auto_columns": null,
            "margin": null,
            "display": null,
            "left": null
          }
        },
        "6e56faf1646f42399b82cd61514766ea": {
          "model_module": "@jupyter-widgets/controls",
          "model_name": "DescriptionStyleModel",
          "model_module_version": "1.5.0",
          "state": {
            "_view_name": "StyleView",
            "_model_name": "DescriptionStyleModel",
            "description_width": "",
            "_view_module": "@jupyter-widgets/base",
            "_model_module_version": "1.5.0",
            "_view_count": null,
            "_view_module_version": "1.2.0",
            "_model_module": "@jupyter-widgets/controls"
          }
        },
        "50eefa3913d74a3e8b9448767082265a": {
          "model_module": "@jupyter-widgets/base",
          "model_name": "LayoutModel",
          "model_module_version": "1.2.0",
          "state": {
            "_view_name": "LayoutView",
            "grid_template_rows": null,
            "right": null,
            "justify_content": null,
            "_view_module": "@jupyter-widgets/base",
            "overflow": null,
            "_model_module_version": "1.2.0",
            "_view_count": null,
            "flex_flow": null,
            "width": null,
            "min_width": null,
            "border": null,
            "align_items": null,
            "bottom": null,
            "_model_module": "@jupyter-widgets/base",
            "top": null,
            "grid_column": null,
            "overflow_y": null,
            "overflow_x": null,
            "grid_auto_flow": null,
            "grid_area": null,
            "grid_template_columns": null,
            "flex": null,
            "_model_name": "LayoutModel",
            "justify_items": null,
            "grid_row": null,
            "max_height": null,
            "align_content": null,
            "visibility": null,
            "align_self": null,
            "height": null,
            "min_height": null,
            "padding": null,
            "grid_auto_rows": null,
            "grid_gap": null,
            "max_width": null,
            "order": null,
            "_view_module_version": "1.2.0",
            "grid_template_areas": null,
            "object_position": null,
            "object_fit": null,
            "grid_auto_columns": null,
            "margin": null,
            "display": null,
            "left": null
          }
        },
        "3289c5936b1c4ca584132f9f95dc0a82": {
          "model_module": "@jupyter-widgets/controls",
          "model_name": "HBoxModel",
          "model_module_version": "1.5.0",
          "state": {
            "_view_name": "HBoxView",
            "_dom_classes": [],
            "_model_name": "HBoxModel",
            "_view_module": "@jupyter-widgets/controls",
            "_model_module_version": "1.5.0",
            "_view_count": null,
            "_view_module_version": "1.5.0",
            "box_style": "",
            "layout": "IPY_MODEL_06357ce4962b4cc7b1acc5c6a5e179d2",
            "_model_module": "@jupyter-widgets/controls",
            "children": [
              "IPY_MODEL_c63ce265b2f542a8ac37947ab62d77b7",
              "IPY_MODEL_1f793d9f5d7845b683c58a288186caa6",
              "IPY_MODEL_b606e7838d7a4d3685f1bb53dfd78c5a"
            ]
          }
        },
        "06357ce4962b4cc7b1acc5c6a5e179d2": {
          "model_module": "@jupyter-widgets/base",
          "model_name": "LayoutModel",
          "model_module_version": "1.2.0",
          "state": {
            "_view_name": "LayoutView",
            "grid_template_rows": null,
            "right": null,
            "justify_content": null,
            "_view_module": "@jupyter-widgets/base",
            "overflow": null,
            "_model_module_version": "1.2.0",
            "_view_count": null,
            "flex_flow": null,
            "width": null,
            "min_width": null,
            "border": null,
            "align_items": null,
            "bottom": null,
            "_model_module": "@jupyter-widgets/base",
            "top": null,
            "grid_column": null,
            "overflow_y": null,
            "overflow_x": null,
            "grid_auto_flow": null,
            "grid_area": null,
            "grid_template_columns": null,
            "flex": null,
            "_model_name": "LayoutModel",
            "justify_items": null,
            "grid_row": null,
            "max_height": null,
            "align_content": null,
            "visibility": null,
            "align_self": null,
            "height": null,
            "min_height": null,
            "padding": null,
            "grid_auto_rows": null,
            "grid_gap": null,
            "max_width": null,
            "order": null,
            "_view_module_version": "1.2.0",
            "grid_template_areas": null,
            "object_position": null,
            "object_fit": null,
            "grid_auto_columns": null,
            "margin": null,
            "display": null,
            "left": null
          }
        },
        "c63ce265b2f542a8ac37947ab62d77b7": {
          "model_module": "@jupyter-widgets/controls",
          "model_name": "HTMLModel",
          "model_module_version": "1.5.0",
          "state": {
            "_view_name": "HTMLView",
            "style": "IPY_MODEL_9b0523b358f94d87a4fdc004e55a7dbc",
            "_dom_classes": [],
            "description": "",
            "_model_name": "HTMLModel",
            "placeholder": "​",
            "_view_module": "@jupyter-widgets/controls",
            "_model_module_version": "1.5.0",
            "value": "Downloading: 100%",
            "_view_count": null,
            "_view_module_version": "1.5.0",
            "description_tooltip": null,
            "_model_module": "@jupyter-widgets/controls",
            "layout": "IPY_MODEL_aa1b3cb3f4c04a469f6909c73bc2167b"
          }
        },
        "1f793d9f5d7845b683c58a288186caa6": {
          "model_module": "@jupyter-widgets/controls",
          "model_name": "FloatProgressModel",
          "model_module_version": "1.5.0",
          "state": {
            "_view_name": "ProgressView",
            "style": "IPY_MODEL_173501e4708a4f729ecdb5ef4d684118",
            "_dom_classes": [],
            "description": "",
            "_model_name": "FloatProgressModel",
            "bar_style": "success",
            "max": 536063208,
            "_view_module": "@jupyter-widgets/controls",
            "_model_module_version": "1.5.0",
            "value": 536063208,
            "_view_count": null,
            "_view_module_version": "1.5.0",
            "orientation": "horizontal",
            "min": 0,
            "description_tooltip": null,
            "_model_module": "@jupyter-widgets/controls",
            "layout": "IPY_MODEL_2cb1f39ccff44d7787a9de383c6f0dc4"
          }
        },
        "b606e7838d7a4d3685f1bb53dfd78c5a": {
          "model_module": "@jupyter-widgets/controls",
          "model_name": "HTMLModel",
          "model_module_version": "1.5.0",
          "state": {
            "_view_name": "HTMLView",
            "style": "IPY_MODEL_95c7571047384b2f9c0a7da338b431b0",
            "_dom_classes": [],
            "description": "",
            "_model_name": "HTMLModel",
            "placeholder": "​",
            "_view_module": "@jupyter-widgets/controls",
            "_model_module_version": "1.5.0",
            "value": " 536M/536M [00:17&lt;00:00, 34.0MB/s]",
            "_view_count": null,
            "_view_module_version": "1.5.0",
            "description_tooltip": null,
            "_model_module": "@jupyter-widgets/controls",
            "layout": "IPY_MODEL_745108b9522e419abb94183466d88401"
          }
        },
        "9b0523b358f94d87a4fdc004e55a7dbc": {
          "model_module": "@jupyter-widgets/controls",
          "model_name": "DescriptionStyleModel",
          "model_module_version": "1.5.0",
          "state": {
            "_view_name": "StyleView",
            "_model_name": "DescriptionStyleModel",
            "description_width": "",
            "_view_module": "@jupyter-widgets/base",
            "_model_module_version": "1.5.0",
            "_view_count": null,
            "_view_module_version": "1.2.0",
            "_model_module": "@jupyter-widgets/controls"
          }
        },
        "aa1b3cb3f4c04a469f6909c73bc2167b": {
          "model_module": "@jupyter-widgets/base",
          "model_name": "LayoutModel",
          "model_module_version": "1.2.0",
          "state": {
            "_view_name": "LayoutView",
            "grid_template_rows": null,
            "right": null,
            "justify_content": null,
            "_view_module": "@jupyter-widgets/base",
            "overflow": null,
            "_model_module_version": "1.2.0",
            "_view_count": null,
            "flex_flow": null,
            "width": null,
            "min_width": null,
            "border": null,
            "align_items": null,
            "bottom": null,
            "_model_module": "@jupyter-widgets/base",
            "top": null,
            "grid_column": null,
            "overflow_y": null,
            "overflow_x": null,
            "grid_auto_flow": null,
            "grid_area": null,
            "grid_template_columns": null,
            "flex": null,
            "_model_name": "LayoutModel",
            "justify_items": null,
            "grid_row": null,
            "max_height": null,
            "align_content": null,
            "visibility": null,
            "align_self": null,
            "height": null,
            "min_height": null,
            "padding": null,
            "grid_auto_rows": null,
            "grid_gap": null,
            "max_width": null,
            "order": null,
            "_view_module_version": "1.2.0",
            "grid_template_areas": null,
            "object_position": null,
            "object_fit": null,
            "grid_auto_columns": null,
            "margin": null,
            "display": null,
            "left": null
          }
        },
        "173501e4708a4f729ecdb5ef4d684118": {
          "model_module": "@jupyter-widgets/controls",
          "model_name": "ProgressStyleModel",
          "model_module_version": "1.5.0",
          "state": {
            "_view_name": "StyleView",
            "_model_name": "ProgressStyleModel",
            "description_width": "",
            "_view_module": "@jupyter-widgets/base",
            "_model_module_version": "1.5.0",
            "_view_count": null,
            "_view_module_version": "1.2.0",
            "bar_color": null,
            "_model_module": "@jupyter-widgets/controls"
          }
        },
        "2cb1f39ccff44d7787a9de383c6f0dc4": {
          "model_module": "@jupyter-widgets/base",
          "model_name": "LayoutModel",
          "model_module_version": "1.2.0",
          "state": {
            "_view_name": "LayoutView",
            "grid_template_rows": null,
            "right": null,
            "justify_content": null,
            "_view_module": "@jupyter-widgets/base",
            "overflow": null,
            "_model_module_version": "1.2.0",
            "_view_count": null,
            "flex_flow": null,
            "width": null,
            "min_width": null,
            "border": null,
            "align_items": null,
            "bottom": null,
            "_model_module": "@jupyter-widgets/base",
            "top": null,
            "grid_column": null,
            "overflow_y": null,
            "overflow_x": null,
            "grid_auto_flow": null,
            "grid_area": null,
            "grid_template_columns": null,
            "flex": null,
            "_model_name": "LayoutModel",
            "justify_items": null,
            "grid_row": null,
            "max_height": null,
            "align_content": null,
            "visibility": null,
            "align_self": null,
            "height": null,
            "min_height": null,
            "padding": null,
            "grid_auto_rows": null,
            "grid_gap": null,
            "max_width": null,
            "order": null,
            "_view_module_version": "1.2.0",
            "grid_template_areas": null,
            "object_position": null,
            "object_fit": null,
            "grid_auto_columns": null,
            "margin": null,
            "display": null,
            "left": null
          }
        },
        "95c7571047384b2f9c0a7da338b431b0": {
          "model_module": "@jupyter-widgets/controls",
          "model_name": "DescriptionStyleModel",
          "model_module_version": "1.5.0",
          "state": {
            "_view_name": "StyleView",
            "_model_name": "DescriptionStyleModel",
            "description_width": "",
            "_view_module": "@jupyter-widgets/base",
            "_model_module_version": "1.5.0",
            "_view_count": null,
            "_view_module_version": "1.2.0",
            "_model_module": "@jupyter-widgets/controls"
          }
        },
        "745108b9522e419abb94183466d88401": {
          "model_module": "@jupyter-widgets/base",
          "model_name": "LayoutModel",
          "model_module_version": "1.2.0",
          "state": {
            "_view_name": "LayoutView",
            "grid_template_rows": null,
            "right": null,
            "justify_content": null,
            "_view_module": "@jupyter-widgets/base",
            "overflow": null,
            "_model_module_version": "1.2.0",
            "_view_count": null,
            "flex_flow": null,
            "width": null,
            "min_width": null,
            "border": null,
            "align_items": null,
            "bottom": null,
            "_model_module": "@jupyter-widgets/base",
            "top": null,
            "grid_column": null,
            "overflow_y": null,
            "overflow_x": null,
            "grid_auto_flow": null,
            "grid_area": null,
            "grid_template_columns": null,
            "flex": null,
            "_model_name": "LayoutModel",
            "justify_items": null,
            "grid_row": null,
            "max_height": null,
            "align_content": null,
            "visibility": null,
            "align_self": null,
            "height": null,
            "min_height": null,
            "padding": null,
            "grid_auto_rows": null,
            "grid_gap": null,
            "max_width": null,
            "order": null,
            "_view_module_version": "1.2.0",
            "grid_template_areas": null,
            "object_position": null,
            "object_fit": null,
            "grid_auto_columns": null,
            "margin": null,
            "display": null,
            "left": null
          }
        }
      }
    }
  },
  "cells": [
    {
      "cell_type": "markdown",
      "metadata": {
        "id": "view-in-github",
        "colab_type": "text"
      },
      "source": [
        "<a href=\"https://colab.research.google.com/github/RyanTokManMokMTM/NLP_Final/blob/main/nlp_getting_started.ipynb\" target=\"_parent\"><img src=\"https://colab.research.google.com/assets/colab-badge.svg\" alt=\"Open In Colab\"/></a>"
      ]
    },
    {
      "cell_type": "markdown",
      "metadata": {
        "id": "pry2qSCl01cA"
      },
      "source": [
        "# Simple Kaggle Compitition with NLP\n",
        "## Natural Language Processing with Disaster Tweets"
      ]
    },
    {
      "cell_type": "markdown",
      "metadata": {
        "id": "g_zFkBV8090_"
      },
      "source": [
        "### loading the data and check datas format"
      ]
    },
    {
      "cell_type": "code",
      "metadata": {
        "id": "PCQgeDUszDlA"
      },
      "source": [
        "#load data csv with pd\n",
        "import pandas as pd\n",
        "train_data = pd.read_csv(\"train.csv\",encoding=\"utf-8\")\n",
        "test_data = pd.read_csv(\"test.csv\",encoding=\"utf-8\")\n",
        "submission_data = pd.read_csv(\"sample_submission.csv\",encoding=\"utf-8\")"
      ],
      "execution_count": 75,
      "outputs": []
    },
    {
      "cell_type": "markdown",
      "metadata": {
        "id": "PXtjUcal2u89"
      },
      "source": [
        "#### see what we got"
      ]
    },
    {
      "cell_type": "code",
      "metadata": {
        "colab": {
          "base_uri": "https://localhost:8080/",
          "height": 359
        },
        "id": "ZrO9783k2xKl",
        "outputId": "731851de-3395-4bf2-f39e-b647f0def362"
      },
      "source": [
        "#train data\n",
        "train_data[:10]"
      ],
      "execution_count": 76,
      "outputs": [
        {
          "output_type": "execute_result",
          "data": {
            "text/html": [
              "<div>\n",
              "<style scoped>\n",
              "    .dataframe tbody tr th:only-of-type {\n",
              "        vertical-align: middle;\n",
              "    }\n",
              "\n",
              "    .dataframe tbody tr th {\n",
              "        vertical-align: top;\n",
              "    }\n",
              "\n",
              "    .dataframe thead th {\n",
              "        text-align: right;\n",
              "    }\n",
              "</style>\n",
              "<table border=\"1\" class=\"dataframe\">\n",
              "  <thead>\n",
              "    <tr style=\"text-align: right;\">\n",
              "      <th></th>\n",
              "      <th>id</th>\n",
              "      <th>keyword</th>\n",
              "      <th>location</th>\n",
              "      <th>text</th>\n",
              "      <th>target</th>\n",
              "    </tr>\n",
              "  </thead>\n",
              "  <tbody>\n",
              "    <tr>\n",
              "      <th>0</th>\n",
              "      <td>1</td>\n",
              "      <td>NaN</td>\n",
              "      <td>NaN</td>\n",
              "      <td>Our Deeds are the Reason of this #earthquake M...</td>\n",
              "      <td>1</td>\n",
              "    </tr>\n",
              "    <tr>\n",
              "      <th>1</th>\n",
              "      <td>4</td>\n",
              "      <td>NaN</td>\n",
              "      <td>NaN</td>\n",
              "      <td>Forest fire near La Ronge Sask. Canada</td>\n",
              "      <td>1</td>\n",
              "    </tr>\n",
              "    <tr>\n",
              "      <th>2</th>\n",
              "      <td>5</td>\n",
              "      <td>NaN</td>\n",
              "      <td>NaN</td>\n",
              "      <td>All residents asked to 'shelter in place' are ...</td>\n",
              "      <td>1</td>\n",
              "    </tr>\n",
              "    <tr>\n",
              "      <th>3</th>\n",
              "      <td>6</td>\n",
              "      <td>NaN</td>\n",
              "      <td>NaN</td>\n",
              "      <td>13,000 people receive #wildfires evacuation or...</td>\n",
              "      <td>1</td>\n",
              "    </tr>\n",
              "    <tr>\n",
              "      <th>4</th>\n",
              "      <td>7</td>\n",
              "      <td>NaN</td>\n",
              "      <td>NaN</td>\n",
              "      <td>Just got sent this photo from Ruby #Alaska as ...</td>\n",
              "      <td>1</td>\n",
              "    </tr>\n",
              "    <tr>\n",
              "      <th>5</th>\n",
              "      <td>8</td>\n",
              "      <td>NaN</td>\n",
              "      <td>NaN</td>\n",
              "      <td>#RockyFire Update =&gt; California Hwy. 20 closed...</td>\n",
              "      <td>1</td>\n",
              "    </tr>\n",
              "    <tr>\n",
              "      <th>6</th>\n",
              "      <td>10</td>\n",
              "      <td>NaN</td>\n",
              "      <td>NaN</td>\n",
              "      <td>#flood #disaster Heavy rain causes flash flood...</td>\n",
              "      <td>1</td>\n",
              "    </tr>\n",
              "    <tr>\n",
              "      <th>7</th>\n",
              "      <td>13</td>\n",
              "      <td>NaN</td>\n",
              "      <td>NaN</td>\n",
              "      <td>I'm on top of the hill and I can see a fire in...</td>\n",
              "      <td>1</td>\n",
              "    </tr>\n",
              "    <tr>\n",
              "      <th>8</th>\n",
              "      <td>14</td>\n",
              "      <td>NaN</td>\n",
              "      <td>NaN</td>\n",
              "      <td>There's an emergency evacuation happening now ...</td>\n",
              "      <td>1</td>\n",
              "    </tr>\n",
              "    <tr>\n",
              "      <th>9</th>\n",
              "      <td>15</td>\n",
              "      <td>NaN</td>\n",
              "      <td>NaN</td>\n",
              "      <td>I'm afraid that the tornado is coming to our a...</td>\n",
              "      <td>1</td>\n",
              "    </tr>\n",
              "  </tbody>\n",
              "</table>\n",
              "</div>"
            ],
            "text/plain": [
              "   id keyword  ...                                               text target\n",
              "0   1     NaN  ...  Our Deeds are the Reason of this #earthquake M...      1\n",
              "1   4     NaN  ...             Forest fire near La Ronge Sask. Canada      1\n",
              "2   5     NaN  ...  All residents asked to 'shelter in place' are ...      1\n",
              "3   6     NaN  ...  13,000 people receive #wildfires evacuation or...      1\n",
              "4   7     NaN  ...  Just got sent this photo from Ruby #Alaska as ...      1\n",
              "5   8     NaN  ...  #RockyFire Update => California Hwy. 20 closed...      1\n",
              "6  10     NaN  ...  #flood #disaster Heavy rain causes flash flood...      1\n",
              "7  13     NaN  ...  I'm on top of the hill and I can see a fire in...      1\n",
              "8  14     NaN  ...  There's an emergency evacuation happening now ...      1\n",
              "9  15     NaN  ...  I'm afraid that the tornado is coming to our a...      1\n",
              "\n",
              "[10 rows x 5 columns]"
            ]
          },
          "metadata": {},
          "execution_count": 76
        }
      ]
    },
    {
      "cell_type": "code",
      "metadata": {
        "colab": {
          "base_uri": "https://localhost:8080/"
        },
        "id": "4IhgpGk3277N",
        "outputId": "df35adf1-2b22-4b2b-b48d-eda319d6cbb2"
      },
      "source": [
        "#shape of the data\n",
        "train_data.shape"
      ],
      "execution_count": 77,
      "outputs": [
        {
          "output_type": "execute_result",
          "data": {
            "text/plain": [
              "(7613, 5)"
            ]
          },
          "metadata": {},
          "execution_count": 77
        }
      ]
    },
    {
      "cell_type": "code",
      "metadata": {
        "colab": {
          "base_uri": "https://localhost:8080/"
        },
        "id": "3jaMn1hc3GXN",
        "outputId": "0ec7acd0-e822-41df-fb9d-f8747ac8d009"
      },
      "source": [
        "#header of the data\n",
        "print(train_data.columns.get_value)"
      ],
      "execution_count": 78,
      "outputs": [
        {
          "output_type": "stream",
          "text": [
            "<bound method Index.get_value of Index(['id', 'keyword', 'location', 'text', 'target'], dtype='object')>\n"
          ],
          "name": "stdout"
        }
      ]
    },
    {
      "cell_type": "code",
      "metadata": {
        "colab": {
          "base_uri": "https://localhost:8080/",
          "height": 419
        },
        "id": "BAGVYo69Jx4V",
        "outputId": "c71f6c02-6226-4f4e-85f2-68188858c678"
      },
      "source": [
        "#Drop the column that we don't use it\n",
        "train_data.drop(['id', 'keyword', 'location'],axis=1)"
      ],
      "execution_count": 79,
      "outputs": [
        {
          "output_type": "execute_result",
          "data": {
            "text/html": [
              "<div>\n",
              "<style scoped>\n",
              "    .dataframe tbody tr th:only-of-type {\n",
              "        vertical-align: middle;\n",
              "    }\n",
              "\n",
              "    .dataframe tbody tr th {\n",
              "        vertical-align: top;\n",
              "    }\n",
              "\n",
              "    .dataframe thead th {\n",
              "        text-align: right;\n",
              "    }\n",
              "</style>\n",
              "<table border=\"1\" class=\"dataframe\">\n",
              "  <thead>\n",
              "    <tr style=\"text-align: right;\">\n",
              "      <th></th>\n",
              "      <th>text</th>\n",
              "      <th>target</th>\n",
              "    </tr>\n",
              "  </thead>\n",
              "  <tbody>\n",
              "    <tr>\n",
              "      <th>0</th>\n",
              "      <td>Our Deeds are the Reason of this #earthquake M...</td>\n",
              "      <td>1</td>\n",
              "    </tr>\n",
              "    <tr>\n",
              "      <th>1</th>\n",
              "      <td>Forest fire near La Ronge Sask. Canada</td>\n",
              "      <td>1</td>\n",
              "    </tr>\n",
              "    <tr>\n",
              "      <th>2</th>\n",
              "      <td>All residents asked to 'shelter in place' are ...</td>\n",
              "      <td>1</td>\n",
              "    </tr>\n",
              "    <tr>\n",
              "      <th>3</th>\n",
              "      <td>13,000 people receive #wildfires evacuation or...</td>\n",
              "      <td>1</td>\n",
              "    </tr>\n",
              "    <tr>\n",
              "      <th>4</th>\n",
              "      <td>Just got sent this photo from Ruby #Alaska as ...</td>\n",
              "      <td>1</td>\n",
              "    </tr>\n",
              "    <tr>\n",
              "      <th>...</th>\n",
              "      <td>...</td>\n",
              "      <td>...</td>\n",
              "    </tr>\n",
              "    <tr>\n",
              "      <th>7608</th>\n",
              "      <td>Two giant cranes holding a bridge collapse int...</td>\n",
              "      <td>1</td>\n",
              "    </tr>\n",
              "    <tr>\n",
              "      <th>7609</th>\n",
              "      <td>@aria_ahrary @TheTawniest The out of control w...</td>\n",
              "      <td>1</td>\n",
              "    </tr>\n",
              "    <tr>\n",
              "      <th>7610</th>\n",
              "      <td>M1.94 [01:04 UTC]?5km S of Volcano Hawaii. htt...</td>\n",
              "      <td>1</td>\n",
              "    </tr>\n",
              "    <tr>\n",
              "      <th>7611</th>\n",
              "      <td>Police investigating after an e-bike collided ...</td>\n",
              "      <td>1</td>\n",
              "    </tr>\n",
              "    <tr>\n",
              "      <th>7612</th>\n",
              "      <td>The Latest: More Homes Razed by Northern Calif...</td>\n",
              "      <td>1</td>\n",
              "    </tr>\n",
              "  </tbody>\n",
              "</table>\n",
              "<p>7613 rows × 2 columns</p>\n",
              "</div>"
            ],
            "text/plain": [
              "                                                   text  target\n",
              "0     Our Deeds are the Reason of this #earthquake M...       1\n",
              "1                Forest fire near La Ronge Sask. Canada       1\n",
              "2     All residents asked to 'shelter in place' are ...       1\n",
              "3     13,000 people receive #wildfires evacuation or...       1\n",
              "4     Just got sent this photo from Ruby #Alaska as ...       1\n",
              "...                                                 ...     ...\n",
              "7608  Two giant cranes holding a bridge collapse int...       1\n",
              "7609  @aria_ahrary @TheTawniest The out of control w...       1\n",
              "7610  M1.94 [01:04 UTC]?5km S of Volcano Hawaii. htt...       1\n",
              "7611  Police investigating after an e-bike collided ...       1\n",
              "7612  The Latest: More Homes Razed by Northern Calif...       1\n",
              "\n",
              "[7613 rows x 2 columns]"
            ]
          },
          "metadata": {},
          "execution_count": 79
        }
      ]
    },
    {
      "cell_type": "markdown",
      "metadata": {
        "id": "ARXC4qZr3UIk"
      },
      "source": [
        "#### TODO\n",
        "\n",
        "\n",
        "*   Clean Data(remove all html stopword etc)   \n",
        "\n",
        "\n",
        "\n"
      ]
    },
    {
      "cell_type": "code",
      "metadata": {
        "colab": {
          "base_uri": "https://localhost:8080/",
          "height": 68
        },
        "id": "ixo3XUwyl4iC",
        "outputId": "4563df50-1c2f-41c2-c50c-c5128776eec9"
      },
      "source": [
        "#check the target\n",
        "count = train_data.target.value_counts() #return how many unique target\n",
        "display(count)"
      ],
      "execution_count": 80,
      "outputs": [
        {
          "output_type": "display_data",
          "data": {
            "text/plain": [
              "0    4342\n",
              "1    3271\n",
              "Name: target, dtype: int64"
            ]
          },
          "metadata": {}
        }
      ]
    },
    {
      "cell_type": "code",
      "metadata": {
        "colab": {
          "base_uri": "https://localhost:8080/",
          "height": 35
        },
        "id": "w49b2YJamoHY",
        "outputId": "b45e4f07-e257-4ffa-faef-56a6aa83e993"
      },
      "source": [
        "train_data.loc[0].text"
      ],
      "execution_count": 81,
      "outputs": [
        {
          "output_type": "execute_result",
          "data": {
            "application/vnd.google.colaboratory.intrinsic+json": {
              "type": "string"
            },
            "text/plain": [
              "'Our Deeds are the Reason of this #earthquake May ALLAH Forgive us all'"
            ]
          },
          "metadata": {},
          "execution_count": 81
        }
      ]
    },
    {
      "cell_type": "code",
      "metadata": {
        "id": "kQpqWLbAKrHt"
      },
      "source": [
        "#split feature and label\n",
        "features = train_data[\"text\"].tolist()\n",
        "label = train_data[\"target\"].tolist()"
      ],
      "execution_count": 82,
      "outputs": []
    },
    {
      "cell_type": "code",
      "metadata": {
        "id": "7vF-_dqbKKFD"
      },
      "source": [
        "features_test = test_data[\"text\"].tolist()"
      ],
      "execution_count": 84,
      "outputs": []
    },
    {
      "cell_type": "markdown",
      "metadata": {
        "id": "94GjPi_Io2B3"
      },
      "source": [
        "#### Define some function to remove the html url etc"
      ]
    },
    {
      "cell_type": "code",
      "metadata": {
        "id": "DjByOJmYpC2-"
      },
      "source": [
        "import re"
      ],
      "execution_count": 85,
      "outputs": []
    },
    {
      "cell_type": "code",
      "metadata": {
        "colab": {
          "base_uri": "https://localhost:8080/"
        },
        "id": "xs6nBXo-o7Em",
        "outputId": "d24fe81b-eb06-4005-e7c8-c045f010e52f"
      },
      "source": [
        "# #remove the url link in the text\n",
        "# def urlRemover(txt):\n",
        "#   #read the url with regex \n",
        "#   urlStr = re.compile(\"https?://\\S+|www\\.\\S+\")\n",
        "#   return urlStr.sub(\"\",txt);\n",
        "\n",
        "# funcTester = \"i like google : https://www.google.com.hk\"\n",
        "# print(urlRemover(funcTester))"
      ],
      "execution_count": 86,
      "outputs": [
        {
          "output_type": "stream",
          "text": [
            "i like google : \n"
          ],
          "name": "stdout"
        }
      ]
    },
    {
      "cell_type": "code",
      "metadata": {
        "colab": {
          "base_uri": "https://localhost:8080/"
        },
        "id": "2Bq10hzVpp9m",
        "outputId": "cbf591a5-9f76-4e92-8430-457511c2bf62"
      },
      "source": [
        "# #remove the html tag\n",
        "# def htmlTagRemover(html):\n",
        "#   htmlTxt = re.compile(\"<.*?>\")\n",
        "#   return htmlTxt.sub(\"\",html)\n",
        "\n",
        "# test = \"\"\"<div>\n",
        "# <h1>Real or Fake</h1>\n",
        "# <p>Kaggle </p>\n",
        "# <a href=\"https://www.kaggle.com/c/nlp-getting-started\">getting started</a>\n",
        "# </div>\"\"\"\n",
        "# print(htmlTagRemover(test))"
      ],
      "execution_count": 87,
      "outputs": [
        {
          "output_type": "stream",
          "text": [
            "\n",
            "Real or Fake\n",
            "Kaggle \n",
            "getting started\n",
            "\n"
          ],
          "name": "stdout"
        }
      ]
    },
    {
      "cell_type": "code",
      "metadata": {
        "colab": {
          "base_uri": "https://localhost:8080/"
        },
        "id": "YM7Vn2SyogPH",
        "outputId": "d47f7b58-90f0-4647-a9e5-81d2b7bcbb63"
      },
      "source": [
        "# #remove all the emoji in txt\n",
        "# def emojiRemover(emojiTxt):\n",
        "#   '''\n",
        "#     Here will define some unicode bounds\n",
        "#     emoticons,symbols,transport,and other\n",
        "#   '''\n",
        "#   emoji= re.compile(\"[\"\n",
        "#       u\"\\U0001F600-\\U0001F64F\"\n",
        "#       u\"\\U0001F300-\\U0001F5FF\"\n",
        "#       u\"\\U0001F680-\\U0001F6FF\"\n",
        "#       u\"\\U0001F1E0-\\U0001F1FF\"\n",
        "#       u\"\\U00002702-\\U000027B0\"\n",
        "#       u\"\\U000024C2-\\U0001F251\"\n",
        "#       \"]+\",flags = re.UNICODE\n",
        "#     )\n",
        "#   return emoji.sub(\"\",emojiTxt)\n",
        "\n",
        "# print(emojiRemover(\"tesing emoji 😞 😟 😠\"))"
      ],
      "execution_count": 88,
      "outputs": [
        {
          "output_type": "stream",
          "text": [
            "tesing emoji   \n"
          ],
          "name": "stdout"
        }
      ]
    },
    {
      "cell_type": "code",
      "metadata": {
        "id": "4GLWEQQuEyDJ"
      },
      "source": [
        "#define a clean text function\n",
        "def clean_texts(text):\n",
        "  text = text.lower()\n",
        "  #clean all not a-zA-z0-9 text\n",
        "  textRe = re.compile(\"(@[A-Za-z0-9]+)|([^0-9A-Za-z \\t])|(\\w+:\\/\\/\\S+)|^rt|http.+?\")\n",
        "  return textRe.sub(\"\",text)"
      ],
      "execution_count": 89,
      "outputs": []
    },
    {
      "cell_type": "code",
      "metadata": {
        "id": "_CrcGsiLLCp_"
      },
      "source": [
        "#all clean training data set(stop words not clean yet)\n",
        "clean_feature_data = []\n",
        "for txt in features:\n",
        "  clean_feature_data.append(clean_texts(txt))"
      ],
      "execution_count": 90,
      "outputs": []
    },
    {
      "cell_type": "code",
      "metadata": {
        "id": "Nk73ofuZKUG3"
      },
      "source": [
        "#all clean testing data set(stop words not clean yet)\n",
        "clean_feature_test_data = []\n",
        "for txt in features_test:\n",
        "  clean_feature_test_data.append(clean_texts(txt))"
      ],
      "execution_count": 91,
      "outputs": []
    },
    {
      "cell_type": "markdown",
      "metadata": {
        "id": "vR6RP8L7LneN"
      },
      "source": [
        "#### need to clean all stop word with cleaning word list\n",
        "#### stopword list with NL Toolkit stopword.word(english)"
      ]
    },
    {
      "cell_type": "code",
      "metadata": {
        "colab": {
          "base_uri": "https://localhost:8080/"
        },
        "id": "eRE5NrouLz9W",
        "outputId": "3b3e5a0d-ae6b-40ff-d7e6-4b6fbaf28938"
      },
      "source": [
        "#download the stopword list from nltk package\n",
        "import nltk.corpus\n",
        "nltk.download('stopwords')"
      ],
      "execution_count": 94,
      "outputs": [
        {
          "output_type": "stream",
          "text": [
            "[nltk_data] Downloading package stopwords to /root/nltk_data...\n",
            "[nltk_data]   Package stopwords is already up-to-date!\n"
          ],
          "name": "stdout"
        },
        {
          "output_type": "execute_result",
          "data": {
            "text/plain": [
              "True"
            ]
          },
          "metadata": {},
          "execution_count": 94
        }
      ]
    },
    {
      "cell_type": "code",
      "metadata": {
        "id": "FzhyWJ08MX5W"
      },
      "source": [
        "#load import nltk stopwords english word\n",
        "from nltk.corpus import stopwords\n",
        "stopwordsList = stopwords.words(\"english\")"
      ],
      "execution_count": 95,
      "outputs": []
    },
    {
      "cell_type": "code",
      "metadata": {
        "id": "wxTSgx_bMxbP"
      },
      "source": [
        "#clean all stop words in each sentance\n",
        "def clean_stop_word(cleanTxt):\n",
        "  return \" \".join([word for word in cleanTxt.split() if not word in stopwordsList])"
      ],
      "execution_count": 97,
      "outputs": []
    },
    {
      "cell_type": "code",
      "metadata": {
        "id": "uWhY6FadNOSO"
      },
      "source": [
        "all_clean_text = []\n",
        "for sentance in clean_feature_data:\n",
        "  all_clean_text.append(clean_stop_word(sentance))"
      ],
      "execution_count": 98,
      "outputs": []
    },
    {
      "cell_type": "code",
      "metadata": {
        "id": "sD8VX773K21r"
      },
      "source": [
        "all_clean_text_test = []\n",
        "for sentance in clean_feature_test_data:\n",
        "  all_clean_text_test.append(clean_stop_word(sentance))"
      ],
      "execution_count": 99,
      "outputs": []
    },
    {
      "cell_type": "code",
      "metadata": {
        "id": "3L4WVDhxUAZO"
      },
      "source": [
        "#splite our data to train data and test data\n",
        "from sklearn.model_selection import train_test_split\n",
        "x_train,x_test,y_train,y_test = train_test_split(all_clean_text,label,random_state = 0)"
      ],
      "execution_count": 101,
      "outputs": []
    },
    {
      "cell_type": "markdown",
      "metadata": {
        "id": "xqOF5iZ0TjTs"
      },
      "source": [
        "### Basic SGDClassifer(0.77)"
      ]
    },
    {
      "cell_type": "code",
      "metadata": {
        "id": "fLBB2NbQTnfu"
      },
      "source": [
        "from sklearn.pipeline import Pipeline\n",
        "from sklearn.linear_model import SGDClassifier\n",
        "from sklearn.feature_extraction.text import TfidfTransformer\n",
        "from sklearn.feature_extraction.text import TfidfVectorizer\n",
        "from sklearn.feature_extraction.text import CountVectorizer\n",
        "sgd = Pipeline([\n",
        "    ('vect', CountVectorizer()),\n",
        "    ('tfidf',  TfidfTransformer()),\n",
        "    ('nb', SGDClassifier()),\n",
        "])\n",
        "#fit the data to model\n",
        "model = sgd.fit(x_train, y_train)"
      ],
      "execution_count": 102,
      "outputs": []
    },
    {
      "cell_type": "code",
      "metadata": {
        "colab": {
          "base_uri": "https://localhost:8080/"
        },
        "id": "PmGua6h7Vcxl",
        "outputId": "4f69d0f3-5738-4dd2-ed97-fd96eb9220fb"
      },
      "source": [
        "from sklearn.metrics import classification_report\n",
        "#try to predict the model\n",
        "predict = model.predict(x_test)\n",
        "\n",
        "#print the predict ans\n",
        "print(classification_report(y_test,predict))"
      ],
      "execution_count": 103,
      "outputs": [
        {
          "output_type": "stream",
          "text": [
            "              precision    recall  f1-score   support\n",
            "\n",
            "           0       0.80      0.85      0.83      1107\n",
            "           1       0.78      0.71      0.74       797\n",
            "\n",
            "    accuracy                           0.79      1904\n",
            "   macro avg       0.79      0.78      0.78      1904\n",
            "weighted avg       0.79      0.79      0.79      1904\n",
            "\n"
          ],
          "name": "stdout"
        }
      ]
    },
    {
      "cell_type": "code",
      "metadata": {
        "id": "YF8b_eAxPufO"
      },
      "source": [
        "predict = model.predict(all_clean_text_test)"
      ],
      "execution_count": 108,
      "outputs": []
    },
    {
      "cell_type": "code",
      "metadata": {
        "id": "neWMFbfXN2Se"
      },
      "source": [
        "predict_submission = pd.read_csv(\"sample_submission.csv\")\n",
        "predict_submission[\"target\"] = predict\n",
        "predict_submission.to_csv(\"nlp_submission_sgd.csv\",index = False)"
      ],
      "execution_count": 111,
      "outputs": []
    },
    {
      "cell_type": "code",
      "metadata": {
        "colab": {
          "base_uri": "https://localhost:8080/",
          "height": 419
        },
        "id": "t1-VTZXLP92h",
        "outputId": "90785964-48fa-4ff1-d158-60318cf8b671"
      },
      "source": [
        "predict_submission"
      ],
      "execution_count": 110,
      "outputs": [
        {
          "output_type": "execute_result",
          "data": {
            "text/html": [
              "<div>\n",
              "<style scoped>\n",
              "    .dataframe tbody tr th:only-of-type {\n",
              "        vertical-align: middle;\n",
              "    }\n",
              "\n",
              "    .dataframe tbody tr th {\n",
              "        vertical-align: top;\n",
              "    }\n",
              "\n",
              "    .dataframe thead th {\n",
              "        text-align: right;\n",
              "    }\n",
              "</style>\n",
              "<table border=\"1\" class=\"dataframe\">\n",
              "  <thead>\n",
              "    <tr style=\"text-align: right;\">\n",
              "      <th></th>\n",
              "      <th>id</th>\n",
              "      <th>target</th>\n",
              "    </tr>\n",
              "  </thead>\n",
              "  <tbody>\n",
              "    <tr>\n",
              "      <th>0</th>\n",
              "      <td>0</td>\n",
              "      <td>1</td>\n",
              "    </tr>\n",
              "    <tr>\n",
              "      <th>1</th>\n",
              "      <td>2</td>\n",
              "      <td>0</td>\n",
              "    </tr>\n",
              "    <tr>\n",
              "      <th>2</th>\n",
              "      <td>3</td>\n",
              "      <td>1</td>\n",
              "    </tr>\n",
              "    <tr>\n",
              "      <th>3</th>\n",
              "      <td>9</td>\n",
              "      <td>1</td>\n",
              "    </tr>\n",
              "    <tr>\n",
              "      <th>4</th>\n",
              "      <td>11</td>\n",
              "      <td>1</td>\n",
              "    </tr>\n",
              "    <tr>\n",
              "      <th>...</th>\n",
              "      <td>...</td>\n",
              "      <td>...</td>\n",
              "    </tr>\n",
              "    <tr>\n",
              "      <th>3258</th>\n",
              "      <td>10861</td>\n",
              "      <td>1</td>\n",
              "    </tr>\n",
              "    <tr>\n",
              "      <th>3259</th>\n",
              "      <td>10865</td>\n",
              "      <td>1</td>\n",
              "    </tr>\n",
              "    <tr>\n",
              "      <th>3260</th>\n",
              "      <td>10868</td>\n",
              "      <td>1</td>\n",
              "    </tr>\n",
              "    <tr>\n",
              "      <th>3261</th>\n",
              "      <td>10874</td>\n",
              "      <td>1</td>\n",
              "    </tr>\n",
              "    <tr>\n",
              "      <th>3262</th>\n",
              "      <td>10875</td>\n",
              "      <td>0</td>\n",
              "    </tr>\n",
              "  </tbody>\n",
              "</table>\n",
              "<p>3263 rows × 2 columns</p>\n",
              "</div>"
            ],
            "text/plain": [
              "         id  target\n",
              "0         0       1\n",
              "1         2       0\n",
              "2         3       1\n",
              "3         9       1\n",
              "4        11       1\n",
              "...     ...     ...\n",
              "3258  10861       1\n",
              "3259  10865       1\n",
              "3260  10868       1\n",
              "3261  10874       1\n",
              "3262  10875       0\n",
              "\n",
              "[3263 rows x 2 columns]"
            ]
          },
          "metadata": {},
          "execution_count": 110
        }
      ]
    },
    {
      "cell_type": "markdown",
      "metadata": {
        "id": "xjQSrohqQVSu"
      },
      "source": [
        "### Tokenization\n",
        "#### make the word as a vector of each sentence"
      ]
    },
    {
      "cell_type": "code",
      "metadata": {
        "id": "z_75-HxHQpb2"
      },
      "source": [
        "#initial the CountVectorizer\n",
        "vectorizer = CountVectorizer(analyzer=\"word\",tokenizer=None,preprocessor=None,stop_words=None)\n",
        "\n",
        "#fit_transform will fit the data to model and learn the word\n",
        "train_feature = vectorizer.fit_transform(x_train)\n",
        "test_feature = vectorizer.transform(x_test)\n",
        "train_feature = train_feature.toarray()\n",
        "test_feature = test_feature.toarray()"
      ],
      "execution_count": 25,
      "outputs": []
    },
    {
      "cell_type": "code",
      "metadata": {
        "id": "ThO9R4PSTIFs"
      },
      "source": [
        "#let our testing data set to vector\n",
        "testing_feature = vectorizer.transform(all_clean_text_test)"
      ],
      "execution_count": 119,
      "outputs": []
    },
    {
      "cell_type": "code",
      "metadata": {
        "colab": {
          "base_uri": "https://localhost:8080/"
        },
        "id": "IANtgpyFSs79",
        "outputId": "fd71af86-9595-4888-e76d-a9a816df7d6c"
      },
      "source": [
        "#feature shape \n",
        "train_feature.shape #(total sentence,total vector(verb))"
      ],
      "execution_count": 26,
      "outputs": [
        {
          "output_type": "execute_result",
          "data": {
            "text/plain": [
              "(5709, 13399)"
            ]
          },
          "metadata": {},
          "execution_count": 26
        }
      ]
    },
    {
      "cell_type": "code",
      "metadata": {
        "colab": {
          "base_uri": "https://localhost:8080/"
        },
        "id": "qrN851JZSa45",
        "outputId": "caaca355-06f6-4a0d-8c13-bb74848e026d"
      },
      "source": [
        "#all word will be tokenized\n",
        "vectorizer.get_feature_names()"
      ],
      "execution_count": 27,
      "outputs": [
        {
          "output_type": "execute_result",
          "data": {
            "text/plain": [
              "['0011',\n",
              " '001116',\n",
              " '0025',\n",
              " '005225',\n",
              " '010217',\n",
              " '0104',\n",
              " '010401',\n",
              " '0106',\n",
              " '0111',\n",
              " '012032',\n",
              " '012624',\n",
              " '015025',\n",
              " '02',\n",
              " '0206',\n",
              " '03',\n",
              " '0306',\n",
              " '0308',\n",
              " '030811',\n",
              " '034',\n",
              " '0400',\n",
              " '045',\n",
              " '05',\n",
              " '05th',\n",
              " '06',\n",
              " '061',\n",
              " '063243',\n",
              " '063424',\n",
              " '06jst',\n",
              " '070',\n",
              " '0700',\n",
              " '0730',\n",
              " '075',\n",
              " '080',\n",
              " '0800',\n",
              " '080215',\n",
              " '080515',\n",
              " '080615',\n",
              " '08072015',\n",
              " '08315',\n",
              " '0840728dynamix',\n",
              " '09',\n",
              " '0913',\n",
              " '0936',\n",
              " '0day',\n",
              " '10',\n",
              " '100',\n",
              " '1000',\n",
              " '10000',\n",
              " '100000',\n",
              " '1000amp1000',\n",
              " '1000s',\n",
              " '1008pla',\n",
              " '100bn',\n",
              " '100mb',\n",
              " '100nd',\n",
              " '100s',\n",
              " '101',\n",
              " '1015pm',\n",
              " '103',\n",
              " '1030',\n",
              " '1030pm',\n",
              " '103424',\n",
              " '1038pm',\n",
              " '1040',\n",
              " '10401',\n",
              " '1040pm',\n",
              " '105',\n",
              " '106',\n",
              " '1061',\n",
              " '107',\n",
              " '1079',\n",
              " '109',\n",
              " '10k',\n",
              " '10km',\n",
              " '10news',\n",
              " '10th',\n",
              " '10thcr',\n",
              " '10w',\n",
              " '10x',\n",
              " '11',\n",
              " '1100',\n",
              " '11000',\n",
              " '11000000',\n",
              " '110358',\n",
              " '111020',\n",
              " '1115',\n",
              " '112',\n",
              " '1130',\n",
              " '1130a',\n",
              " '1130bst',\n",
              " '114',\n",
              " '1145',\n",
              " '115',\n",
              " '118',\n",
              " '11am',\n",
              " '11yearold',\n",
              " '12',\n",
              " '1200',\n",
              " '12000',\n",
              " '120000',\n",
              " '1200000',\n",
              " '12007',\n",
              " '1211',\n",
              " '1232',\n",
              " '1236',\n",
              " '124',\n",
              " '1241317240',\n",
              " '125',\n",
              " '12hr',\n",
              " '12jst',\n",
              " '12m',\n",
              " '12news',\n",
              " '12step',\n",
              " '12th',\n",
              " '12u',\n",
              " '12v',\n",
              " '13',\n",
              " '13000',\n",
              " '133',\n",
              " '1388',\n",
              " '14',\n",
              " '14000',\n",
              " '14028',\n",
              " '143',\n",
              " '14hours',\n",
              " '14th',\n",
              " '14yearold',\n",
              " '15',\n",
              " '150',\n",
              " '1500',\n",
              " '15000270364',\n",
              " '150401',\n",
              " '150foot',\n",
              " '154107',\n",
              " '157',\n",
              " '1580853',\n",
              " '159',\n",
              " '15901',\n",
              " '15km',\n",
              " '15th',\n",
              " '16',\n",
              " '161116',\n",
              " '1620',\n",
              " '164021',\n",
              " '165409',\n",
              " '16550',\n",
              " '166',\n",
              " '1665',\n",
              " '16yr',\n",
              " '17',\n",
              " '1700',\n",
              " '17000',\n",
              " '171',\n",
              " '1710',\n",
              " '1716',\n",
              " '1717',\n",
              " '1726',\n",
              " '175225',\n",
              " '17beyonce',\n",
              " '17jul2015',\n",
              " '17th',\n",
              " '18',\n",
              " '180',\n",
              " '1800',\n",
              " '1800s',\n",
              " '182245',\n",
              " '182624',\n",
              " '184',\n",
              " '1862',\n",
              " '187',\n",
              " '1880',\n",
              " '1890',\n",
              " '18franklin',\n",
              " '18jst',\n",
              " '18th',\n",
              " '18w',\n",
              " '18wheeler',\n",
              " '18wheelers',\n",
              " '19',\n",
              " '1916',\n",
              " '1921',\n",
              " '1928',\n",
              " '1935',\n",
              " '193635',\n",
              " '194',\n",
              " '1940',\n",
              " '1942',\n",
              " '1943',\n",
              " '1945',\n",
              " '1950',\n",
              " '1952',\n",
              " '1965',\n",
              " '1970',\n",
              " '1974',\n",
              " '1976',\n",
              " '197629',\n",
              " '1979',\n",
              " '198',\n",
              " '1980',\n",
              " '1986',\n",
              " '1994',\n",
              " '1998',\n",
              " '199899',\n",
              " '1999',\n",
              " '19th',\n",
              " '1d',\n",
              " '1km',\n",
              " '1m',\n",
              " '1n',\n",
              " '1pack',\n",
              " '1preview',\n",
              " '1russian',\n",
              " '1st',\n",
              " '20',\n",
              " '200',\n",
              " '2000',\n",
              " '200000',\n",
              " '20000k',\n",
              " '2002',\n",
              " '2003',\n",
              " '2005',\n",
              " '2006',\n",
              " '2007he',\n",
              " '2008',\n",
              " '2009',\n",
              " '2010',\n",
              " '2011',\n",
              " '2012',\n",
              " '2013',\n",
              " '2014',\n",
              " '2014nsfw',\n",
              " '2015',\n",
              " '20150613theramin',\n",
              " '20150805',\n",
              " '20150806',\n",
              " '201516',\n",
              " '20152',\n",
              " '2015castle',\n",
              " '2015where',\n",
              " '2016',\n",
              " '20177707d',\n",
              " '2029',\n",
              " '2030',\n",
              " '203rd',\n",
              " '2065',\n",
              " '2082676773',\n",
              " '20k',\n",
              " '20ll4',\n",
              " '20mins',\n",
              " '20s',\n",
              " '20yrs',\n",
              " '21',\n",
              " '210',\n",
              " '211023',\n",
              " '2134678',\n",
              " '213924',\n",
              " '217',\n",
              " '21a',\n",
              " '21k',\n",
              " '21st',\n",
              " '22',\n",
              " '222pm',\n",
              " '228',\n",
              " '22beyonce',\n",
              " '22days',\n",
              " '23',\n",
              " '230',\n",
              " '2300',\n",
              " '234021',\n",
              " '235409',\n",
              " '23800',\n",
              " '239',\n",
              " '23km',\n",
              " '23rd',\n",
              " '24',\n",
              " '241',\n",
              " '241487',\n",
              " '247',\n",
              " '24regionnear',\n",
              " '24v',\n",
              " '25',\n",
              " '2500',\n",
              " '250000',\n",
              " '250k',\n",
              " '255',\n",
              " '25ll6',\n",
              " '26',\n",
              " '260th',\n",
              " '263chat',\n",
              " '27',\n",
              " '2781',\n",
              " '27900end',\n",
              " '27w',\n",
              " '28',\n",
              " '29',\n",
              " '290',\n",
              " '29072015',\n",
              " '2920',\n",
              " '293',\n",
              " '295ss100',\n",
              " '299',\n",
              " '2a',\n",
              " '2am',\n",
              " '2b',\n",
              " '2car',\n",
              " '2d',\n",
              " '2fast2furious',\n",
              " '2his',\n",
              " '2hours',\n",
              " '2k13',\n",
              " '2k15',\n",
              " '2leezy',\n",
              " '2minutemix',\n",
              " '2n',\n",
              " '2nd',\n",
              " '2pack',\n",
              " '2pcs',\n",
              " '2pm',\n",
              " '2slow2report',\n",
              " '2us',\n",
              " '30',\n",
              " '300',\n",
              " '300000',\n",
              " '300k',\n",
              " '300w',\n",
              " '301dc',\n",
              " '30lv6',\n",
              " '30m',\n",
              " '30min',\n",
              " '30stm',\n",
              " '30th',\n",
              " '31',\n",
              " '315',\n",
              " '315pmemergency',\n",
              " '319',\n",
              " '32',\n",
              " '320',\n",
              " '325ci',\n",
              " '33',\n",
              " '34',\n",
              " '3422',\n",
              " '3430pmhs',\n",
              " '345pm',\n",
              " '35',\n",
              " '358',\n",
              " '36',\n",
              " '360',\n",
              " '360wisenews',\n",
              " '361',\n",
              " '3612',\n",
              " '365disasters',\n",
              " '37',\n",
              " '370',\n",
              " '375',\n",
              " '375000',\n",
              " '37592',\n",
              " '37yearold',\n",
              " '38',\n",
              " '38745',\n",
              " '39',\n",
              " '390',\n",
              " '3934',\n",
              " '3941',\n",
              " '3942',\n",
              " '3alarm',\n",
              " '3am',\n",
              " '3d',\n",
              " '3dc',\n",
              " '3g',\n",
              " '3inspired',\n",
              " '3la',\n",
              " '3m',\n",
              " '3n133',\n",
              " '3novices',\n",
              " '3pack',\n",
              " '3rd',\n",
              " '3yearold',\n",
              " '40',\n",
              " '400',\n",
              " '4000',\n",
              " '400t',\n",
              " '401ks',\n",
              " '405',\n",
              " '40hourfamine',\n",
              " '40mln',\n",
              " '41',\n",
              " '4103',\n",
              " '415',\n",
              " '4193',\n",
              " '41yearold',\n",
              " '42',\n",
              " '420',\n",
              " '429cj',\n",
              " '430',\n",
              " '4306pm',\n",
              " '43c',\n",
              " '43rd',\n",
              " '44',\n",
              " '4422',\n",
              " '45',\n",
              " '4500feet',\n",
              " '452',\n",
              " '453',\n",
              " '45600',\n",
              " '459',\n",
              " '45ms',\n",
              " '46',\n",
              " '46lv8',\n",
              " '47km',\n",
              " '48',\n",
              " '481',\n",
              " '49',\n",
              " '4am',\n",
              " '4head',\n",
              " '4km',\n",
              " '4kus',\n",
              " '4playthursdays',\n",
              " '4pm',\n",
              " '4th',\n",
              " '4the',\n",
              " '4wd',\n",
              " '4x4',\n",
              " '4yygb',\n",
              " '50',\n",
              " '500',\n",
              " '5000',\n",
              " '5007',\n",
              " '500th',\n",
              " '501',\n",
              " '5050',\n",
              " '513',\n",
              " '5139055',\n",
              " '516leonardville',\n",
              " '52214904',\n",
              " '528',\n",
              " '52k',\n",
              " '53',\n",
              " '530',\n",
              " '530pm',\n",
              " '536',\n",
              " '53inch',\n",
              " '54',\n",
              " '540',\n",
              " '54000',\n",
              " '541',\n",
              " '544',\n",
              " '547',\n",
              " '5499',\n",
              " '55',\n",
              " '55436',\n",
              " '56',\n",
              " '57',\n",
              " '573',\n",
              " '58',\n",
              " '582',\n",
              " '5c',\n",
              " '5for',\n",
              " '5km',\n",
              " '5pm',\n",
              " '5s',\n",
              " '5sos',\n",
              " '5sosfam',\n",
              " '5th',\n",
              " '60',\n",
              " '600',\n",
              " '601',\n",
              " '60km',\n",
              " '60mph',\n",
              " '60ms',\n",
              " '60s',\n",
              " '60second',\n",
              " '615',\n",
              " '616',\n",
              " '61fri',\n",
              " '627',\n",
              " '629',\n",
              " '630',\n",
              " '630830',\n",
              " '63rdprairie',\n",
              " '64',\n",
              " '64oz',\n",
              " '652',\n",
              " '66',\n",
              " '660',\n",
              " '6615434',\n",
              " '662',\n",
              " '66m',\n",
              " '67',\n",
              " '68',\n",
              " '69',\n",
              " '6aug',\n",
              " '6beyonce',\n",
              " '6bn',\n",
              " '6c',\n",
              " '6drivendriven',\n",
              " '6month',\n",
              " '6th',\n",
              " '6tropical',\n",
              " '70',\n",
              " '7000',\n",
              " '7000series',\n",
              " '70th',\n",
              " '70years',\n",
              " '710',\n",
              " '710pm',\n",
              " '712am',\n",
              " '713pm',\n",
              " '715',\n",
              " '716',\n",
              " '71st',\n",
              " '72',\n",
              " '723',\n",
              " '728',\n",
              " '72w',\n",
              " '731',\n",
              " '73km',\n",
              " '73rd',\n",
              " '740',\n",
              " '746',\n",
              " '7475',\n",
              " '75',\n",
              " '75000',\n",
              " '7510880',\n",
              " '75k',\n",
              " '77',\n",
              " '777',\n",
              " '78',\n",
              " '797',\n",
              " '79yearold',\n",
              " '7a730p',\n",
              " '7aal',\n",
              " '7amdollela',\n",
              " '7k',\n",
              " '7newsadl',\n",
              " '7speed',\n",
              " '80',\n",
              " '800',\n",
              " '8000',\n",
              " '800pm',\n",
              " '80s',\n",
              " '810',\n",
              " '815',\n",
              " '816',\n",
              " '819',\n",
              " '83',\n",
              " '830pm',\n",
              " '84',\n",
              " '8400',\n",
              " '8415',\n",
              " '8437150124',\n",
              " '8515',\n",
              " '852015',\n",
              " '8550013',\n",
              " '85885473',\n",
              " '85v265v',\n",
              " '86',\n",
              " '8615',\n",
              " '86201508',\n",
              " '86201509',\n",
              " '86201532',\n",
              " '87',\n",
              " '8892',\n",
              " '8960',\n",
              " '89x',\n",
              " '8km',\n",
              " '8m',\n",
              " '8minute',\n",
              " '8pin',\n",
              " '8th',\n",
              " '90',\n",
              " '900',\n",
              " '9000',\n",
              " '90100',\n",
              " '90225',\n",
              " '9058778591',\n",
              " '90blksamp8whts',\n",
              " '90s',\n",
              " '90th',\n",
              " '91',\n",
              " '911',\n",
              " '911bombing',\n",
              " '912pm',\n",
              " '915',\n",
              " '917033',\n",
              " '91f',\n",
              " '925',\n",
              " '927',\n",
              " '928',\n",
              " '93',\n",
              " '931pm',\n",
              " '933pm',\n",
              " '945hpa',\n",
              " '945pm',\n",
              " '949',\n",
              " '95',\n",
              " '950',\n",
              " '9503',\n",
              " '96',\n",
              " '96355',\n",
              " '96km',\n",
              " '97',\n",
              " '9798',\n",
              " '97georgia',\n",
              " '9800',\n",
              " '99',\n",
              " '994',\n",
              " '999day',\n",
              " '9km',\n",
              " '9newsmornings',\n",
              " '9pm',\n",
              " 'a1',\n",
              " 'a10gtparis',\n",
              " 'a1a',\n",
              " 'a2gthanover',\n",
              " 'a3',\n",
              " 'a40',\n",
              " 'a5',\n",
              " 'a7',\n",
              " 'aa',\n",
              " 'aaaa',\n",
              " 'aampb',\n",
              " 'aar',\n",
              " 'aashiqui',\n",
              " 'aba',\n",
              " 'abandon',\n",
              " 'abandoned',\n",
              " 'abbandoned',\n",
              " 'abbott',\n",
              " 'abbruchsimulator',\n",
              " 'abbswinston',\n",
              " 'abc',\n",
              " 'abcnews',\n",
              " 'abe',\n",
              " 'aberdeen',\n",
              " 'abes',\n",
              " 'abetter',\n",
              " 'abha',\n",
              " 'abia',\n",
              " 'ability',\n",
              " 'ablaze',\n",
              " 'able',\n",
              " 'aboard',\n",
              " 'abombed',\n",
              " 'abomination',\n",
              " 'abortion',\n",
              " 'abortions',\n",
              " 'abouts',\n",
              " 'abovewould',\n",
              " 'absence',\n",
              " 'absolute',\n",
              " 'absolutely',\n",
              " 'abstorm',\n",
              " 'abstract',\n",
              " 'absurd',\n",
              " 'abuse',\n",
              " 'abused',\n",
              " 'abuseddesolateamplost',\n",
              " 'abuses',\n",
              " 'abusing',\n",
              " 'ac',\n",
              " 'acc',\n",
              " 'accept',\n",
              " 'accepte',\n",
              " 'access',\n",
              " 'accident',\n",
              " 'accidentally',\n",
              " 'accidentalprophecy',\n",
              " 'accidently',\n",
              " 'accidents',\n",
              " 'accidentwho',\n",
              " 'accompanying',\n",
              " 'according',\n",
              " 'accordingly',\n",
              " 'account',\n",
              " 'accountable',\n",
              " 'accounts',\n",
              " 'accused',\n",
              " 'accuses',\n",
              " 'accustomed',\n",
              " 'acdelco',\n",
              " 'ace',\n",
              " 'acenewsdesk',\n",
              " 'acesse',\n",
              " 'achedin',\n",
              " 'achieve',\n",
              " 'achievement',\n",
              " 'achieving',\n",
              " 'achimota',\n",
              " 'aching',\n",
              " 'acid',\n",
              " 'acids',\n",
              " 'acne',\n",
              " 'acoustic',\n",
              " 'acquiesce',\n",
              " 'acquire',\n",
              " 'acquired',\n",
              " 'acquisitions',\n",
              " 'acres',\n",
              " 'acronym',\n",
              " 'across',\n",
              " 'acrylic',\n",
              " 'act',\n",
              " 'actavis',\n",
              " 'acted',\n",
              " 'actin',\n",
              " 'acting',\n",
              " 'action',\n",
              " 'actionmoviestaughtus',\n",
              " 'actions',\n",
              " 'activate',\n",
              " 'activated',\n",
              " 'activates',\n",
              " 'active',\n",
              " 'actively',\n",
              " 'activist',\n",
              " 'activities',\n",
              " 'activity',\n",
              " 'actor',\n",
              " 'actress',\n",
              " 'acts',\n",
              " 'actual',\n",
              " 'actually',\n",
              " 'acura',\n",
              " 'acute',\n",
              " 'ad',\n",
              " 'adam',\n",
              " 'adamantly',\n",
              " 'adani',\n",
              " 'adaptation',\n",
              " 'adavis',\n",
              " 'add',\n",
              " 'added',\n",
              " 'addict',\n",
              " 'addiction',\n",
              " 'addicts',\n",
              " 'adding',\n",
              " 'addition',\n",
              " 'address',\n",
              " 'addresses',\n",
              " 'addtexastonext1dtour',\n",
              " 'adelaide',\n",
              " 'adidas',\n",
              " 'adjuster',\n",
              " 'admin',\n",
              " 'administration',\n",
              " 'administrative',\n",
              " 'admit',\n",
              " 'admits',\n",
              " 'adopt',\n",
              " 'adoption',\n",
              " 'adorable',\n",
              " 'ads',\n",
              " 'adsit',\n",
              " 'adult',\n",
              " 'adults',\n",
              " 'advance',\n",
              " 'advanced',\n",
              " 'advantages',\n",
              " 'adventures',\n",
              " 'adverse',\n",
              " 'advertise',\n",
              " 'advertised',\n",
              " 'advice',\n",
              " 'advised',\n",
              " 'advisory',\n",
              " 'aeg',\n",
              " 'aerospace',\n",
              " 'aesthetic',\n",
              " 'af',\n",
              " 'afc',\n",
              " 'affair',\n",
              " 'affect',\n",
              " 'affected',\n",
              " 'affecting',\n",
              " 'affects',\n",
              " 'affiliate',\n",
              " 'affiliation',\n",
              " 'afflecki',\n",
              " 'affliction',\n",
              " 'afghan',\n",
              " 'afghanistan',\n",
              " 'afghetcleft',\n",
              " 'afloat',\n",
              " 'afp',\n",
              " 'afraid',\n",
              " 'africa',\n",
              " 'african',\n",
              " 'africans',\n",
              " 'africansinsf',\n",
              " 'africas',\n",
              " 'afrikaan',\n",
              " 'afte',\n",
              " 'afterhaiyan',\n",
              " 'afterhours',\n",
              " 'afterlife',\n",
              " 'aftermath',\n",
              " 'afternoon',\n",
              " 'aftershock',\n",
              " 'aftershocks',\n",
              " 'afycso',\n",
              " 'ag',\n",
              " 'agdq',\n",
              " 'age',\n",
              " 'agencies',\n",
              " 'agency',\n",
              " 'agent',\n",
              " 'agents',\n",
              " 'ages',\n",
              " 'aggarwal',\n",
              " 'aggressif',\n",
              " 'aggression',\n",
              " 'aggressive',\n",
              " 'aggressively',\n",
              " 'agnivesh',\n",
              " 'agnus',\n",
              " 'ago',\n",
              " 'agochicago',\n",
              " 'agree',\n",
              " 'agreed',\n",
              " 'agreements',\n",
              " 'agrees',\n",
              " 'agreeshe',\n",
              " 'aguero',\n",
              " 'agw',\n",
              " 'ah',\n",
              " 'ahahahga',\n",
              " 'ahamedis',\n",
              " 'ahead',\n",
              " 'ahh',\n",
              " 'ahhhh',\n",
              " 'ahhhhh',\n",
              " 'ahmazing',\n",
              " 'ahuh',\n",
              " 'aias',\n",
              " 'aiclimate',\n",
              " 'aid',\n",
              " 'aidan',\n",
              " 'aids',\n",
              " 'aiii',\n",
              " 'aim',\n",
              " 'aimlessly',\n",
              " 'aint',\n",
              " 'aintsheperty',\n",
              " 'air',\n",
              " 'air1bullet',\n",
              " 'airasia',\n",
              " 'aircraft',\n",
              " 'airhead',\n",
              " 'airi',\n",
              " 'airing',\n",
              " 'airlift',\n",
              " 'airlines',\n",
              " 'airplane',\n",
              " 'airplane29072015',\n",
              " 'airport',\n",
              " 'airstrikes',\n",
              " 'airwaves',\n",
              " 'aisle',\n",
              " 'ajw',\n",
              " 'ak',\n",
              " 'aka',\n",
              " 'akame',\n",
              " 'akilah',\n",
              " 'akrams',\n",
              " 'aks',\n",
              " 'akwa',\n",
              " 'akxbskdn',\n",
              " 'al',\n",
              " 'alabama',\n",
              " 'aladdin',\n",
              " 'alameda',\n",
              " 'alarm',\n",
              " 'alarmed',\n",
              " 'alarming',\n",
              " 'alarms',\n",
              " 'alas',\n",
              " 'alaska',\n",
              " 'alaskan',\n",
              " 'alaskas',\n",
              " 'alba',\n",
              " 'albany',\n",
              " 'alberta',\n",
              " 'albertans',\n",
              " 'album',\n",
              " 'albums',\n",
              " 'alchemist',\n",
              " 'alcohol',\n",
              " 'alcoholismaddiction',\n",
              " 'aldridge',\n",
              " 'alec',\n",
              " 'alert',\n",
              " 'alerts',\n",
              " 'alex',\n",
              " 'alexandrian',\n",
              " 'algae',\n",
              " 'algeria',\n",
              " 'alien',\n",
              " 'aliens',\n",
              " 'align',\n",
              " 'alil',\n",
              " 'alisonannyoung',\n",
              " 'alive',\n",
              " 'alivebut',\n",
              " 'allah',\n",
              " 'allay',\n",
              " 'allegations',\n",
              " 'alleged',\n",
              " 'allegedly',\n",
              " 'allegiance',\n",
              " 'alley',\n",
              " 'alliance',\n",
              " 'allied',\n",
              " 'allies',\n",
              " 'allin',\n",
              " 'alllll',\n",
              " 'allocating',\n",
              " 'alloosh',\n",
              " 'allotment',\n",
              " 'allow',\n",
              " 'allowed',\n",
              " 'allowing',\n",
              " 'allows',\n",
              " 'alloy',\n",
              " 'allthekidneybeansandsorbet4misha',\n",
              " 'allthenews',\n",
              " 'alltime',\n",
              " 'ally',\n",
              " 'almighty',\n",
              " 'almost',\n",
              " 'alois',\n",
              " 'alone',\n",
              " 'alonedont',\n",
              " 'along',\n",
              " 'alot',\n",
              " 'alps',\n",
              " 'alrasyid448iturasya',\n",
              " 'already',\n",
              " 'alright',\n",
              " 'alrightbut',\n",
              " 'alrighty',\n",
              " 'alska',\n",
              " 'also',\n",
              " 'alsowhat',\n",
              " 'alt',\n",
              " 'altamonte',\n",
              " 'alternate',\n",
              " 'alternative',\n",
              " 'alternatives',\n",
              " 'although',\n",
              " 'alton',\n",
              " 'aluminum',\n",
              " 'alves',\n",
              " 'always',\n",
              " 'alwx',\n",
              " 'ama',\n",
              " 'amageddon',\n",
              " 'amalie',\n",
              " 'amateur',\n",
              " 'amazed',\n",
              " 'amazin',\n",
              " 'amazing',\n",
              " 'amazon',\n",
              " 'amazondeals',\n",
              " 'amazons',\n",
              " 'amber',\n",
              " 'ambleside',\n",
              " 'ambulance',\n",
              " 'ambulances',\n",
              " 'ambulancewe',\n",
              " 'amcx',\n",
              " 'amen',\n",
              " 'amends',\n",
              " 'ameribag',\n",
              " 'america',\n",
              " 'american',\n",
              " 'americans',\n",
              " 'americas',\n",
              " 'americayour',\n",
              " 'amicos',\n",
              " 'amicospizzato',\n",
              " 'amid',\n",
              " 'amiibos',\n",
              " 'amino',\n",
              " 'amirite',\n",
              " 'amiritevra50',\n",
              " 'amman',\n",
              " 'amo',\n",
              " 'among',\n",
              " 'amongst',\n",
              " 'amp',\n",
              " 'amp039monsteramp039',\n",
              " 'ampamp',\n",
              " 'ampask',\n",
              " 'ampgot',\n",
              " 'amplifier',\n",
              " 'ampmdash',\n",
              " 'ampstart',\n",
              " 'ampwanted',\n",
              " 'amreading',\n",
              " 'amritsarthats',\n",
              " ...]"
            ]
          },
          "metadata": {},
          "execution_count": 27
        }
      ]
    },
    {
      "cell_type": "markdown",
      "metadata": {
        "id": "S-_VgdvQXj9m"
      },
      "source": [
        "### Tring on RandomForestClassifier(0.79)"
      ]
    },
    {
      "cell_type": "code",
      "metadata": {
        "id": "oDT8OgYnXlNL"
      },
      "source": [
        "from sklearn.ensemble import RandomForestClassifier\n",
        "rfc = RandomForestClassifier(n_estimators=100)\n",
        "\n",
        "#fit moodel with tokenization \n",
        "rfc = rfc.fit(train_feature,y_train)"
      ],
      "execution_count": 112,
      "outputs": []
    },
    {
      "cell_type": "code",
      "metadata": {
        "id": "tuJOuNDyYw3K"
      },
      "source": [
        "#now train to predict\n",
        "rcf_Predict = rfc.predict(test_feature)"
      ],
      "execution_count": 113,
      "outputs": []
    },
    {
      "cell_type": "code",
      "metadata": {
        "colab": {
          "base_uri": "https://localhost:8080/"
        },
        "id": "_JG1QQZZaSCZ",
        "outputId": "068a41d2-4db8-416b-b97c-29fb808d6842"
      },
      "source": [
        "print(classification_report(y_test,rdf_Predict))"
      ],
      "execution_count": 114,
      "outputs": [
        {
          "output_type": "stream",
          "text": [
            "              precision    recall  f1-score   support\n",
            "\n",
            "           0       0.78      0.91      0.84      1107\n",
            "           1       0.84      0.65      0.73       797\n",
            "\n",
            "    accuracy                           0.80      1904\n",
            "   macro avg       0.81      0.78      0.79      1904\n",
            "weighted avg       0.81      0.80      0.80      1904\n",
            "\n"
          ],
          "name": "stdout"
        }
      ]
    },
    {
      "cell_type": "code",
      "metadata": {
        "id": "adj79fSjQ0Fm"
      },
      "source": [
        "#predict test data target\n",
        "predict = rfc.predict(testing_feature)"
      ],
      "execution_count": 121,
      "outputs": []
    },
    {
      "cell_type": "code",
      "metadata": {
        "colab": {
          "base_uri": "https://localhost:8080/"
        },
        "id": "nsji1qCDTkPL",
        "outputId": "a43f2ddf-6a84-478c-fdc4-1caa417943c3"
      },
      "source": [
        "predict"
      ],
      "execution_count": 122,
      "outputs": [
        {
          "output_type": "execute_result",
          "data": {
            "text/plain": [
              "array([0, 1, 1, ..., 1, 1, 0])"
            ]
          },
          "metadata": {},
          "execution_count": 122
        }
      ]
    },
    {
      "cell_type": "code",
      "metadata": {
        "id": "LMDPA5GFTnjj"
      },
      "source": [
        "predict_submission = pd.read_csv(\"sample_submission.csv\")\n",
        "predict_submission[\"target\"] = predict\n",
        "predict_submission.to_csv(\"nlp_submission_rfc.csv\",index = False)"
      ],
      "execution_count": 123,
      "outputs": []
    },
    {
      "cell_type": "markdown",
      "metadata": {
        "id": "rQTelF7Aajd3"
      },
      "source": [
        "### Trying on Bert Model(0.57033),may need some more epoch and batch size"
      ]
    },
    {
      "cell_type": "code",
      "metadata": {
        "colab": {
          "base_uri": "https://localhost:8080/"
        },
        "id": "psQyKB0rdKf_",
        "outputId": "99219c95-349f-47f6-e792-570b74429056"
      },
      "source": [
        "!pip install transformers"
      ],
      "execution_count": 31,
      "outputs": [
        {
          "output_type": "stream",
          "text": [
            "Collecting transformers\n",
            "  Downloading transformers-4.9.2-py3-none-any.whl (2.6 MB)\n",
            "\u001b[K     |████████████████████████████████| 2.6 MB 12.6 MB/s \n",
            "\u001b[?25hRequirement already satisfied: tqdm>=4.27 in /usr/local/lib/python3.7/dist-packages (from transformers) (4.62.0)\n",
            "Collecting tokenizers<0.11,>=0.10.1\n",
            "  Downloading tokenizers-0.10.3-cp37-cp37m-manylinux_2_5_x86_64.manylinux1_x86_64.manylinux_2_12_x86_64.manylinux2010_x86_64.whl (3.3 MB)\n",
            "\u001b[K     |████████████████████████████████| 3.3 MB 41.1 MB/s \n",
            "\u001b[?25hRequirement already satisfied: regex!=2019.12.17 in /usr/local/lib/python3.7/dist-packages (from transformers) (2019.12.20)\n",
            "Collecting huggingface-hub==0.0.12\n",
            "  Downloading huggingface_hub-0.0.12-py3-none-any.whl (37 kB)\n",
            "Collecting sacremoses\n",
            "  Downloading sacremoses-0.0.45-py3-none-any.whl (895 kB)\n",
            "\u001b[K     |████████████████████████████████| 895 kB 38.8 MB/s \n",
            "\u001b[?25hRequirement already satisfied: importlib-metadata in /usr/local/lib/python3.7/dist-packages (from transformers) (4.6.4)\n",
            "Requirement already satisfied: numpy>=1.17 in /usr/local/lib/python3.7/dist-packages (from transformers) (1.19.5)\n",
            "Requirement already satisfied: requests in /usr/local/lib/python3.7/dist-packages (from transformers) (2.23.0)\n",
            "Collecting pyyaml>=5.1\n",
            "  Downloading PyYAML-5.4.1-cp37-cp37m-manylinux1_x86_64.whl (636 kB)\n",
            "\u001b[K     |████████████████████████████████| 636 kB 48.1 MB/s \n",
            "\u001b[?25hRequirement already satisfied: filelock in /usr/local/lib/python3.7/dist-packages (from transformers) (3.0.12)\n",
            "Requirement already satisfied: packaging in /usr/local/lib/python3.7/dist-packages (from transformers) (21.0)\n",
            "Requirement already satisfied: typing-extensions in /usr/local/lib/python3.7/dist-packages (from huggingface-hub==0.0.12->transformers) (3.7.4.3)\n",
            "Requirement already satisfied: pyparsing>=2.0.2 in /usr/local/lib/python3.7/dist-packages (from packaging->transformers) (2.4.7)\n",
            "Requirement already satisfied: zipp>=0.5 in /usr/local/lib/python3.7/dist-packages (from importlib-metadata->transformers) (3.5.0)\n",
            "Requirement already satisfied: certifi>=2017.4.17 in /usr/local/lib/python3.7/dist-packages (from requests->transformers) (2021.5.30)\n",
            "Requirement already satisfied: idna<3,>=2.5 in /usr/local/lib/python3.7/dist-packages (from requests->transformers) (2.10)\n",
            "Requirement already satisfied: chardet<4,>=3.0.2 in /usr/local/lib/python3.7/dist-packages (from requests->transformers) (3.0.4)\n",
            "Requirement already satisfied: urllib3!=1.25.0,!=1.25.1,<1.26,>=1.21.1 in /usr/local/lib/python3.7/dist-packages (from requests->transformers) (1.24.3)\n",
            "Requirement already satisfied: joblib in /usr/local/lib/python3.7/dist-packages (from sacremoses->transformers) (1.0.1)\n",
            "Requirement already satisfied: six in /usr/local/lib/python3.7/dist-packages (from sacremoses->transformers) (1.15.0)\n",
            "Requirement already satisfied: click in /usr/local/lib/python3.7/dist-packages (from sacremoses->transformers) (7.1.2)\n",
            "Installing collected packages: tokenizers, sacremoses, pyyaml, huggingface-hub, transformers\n",
            "  Attempting uninstall: pyyaml\n",
            "    Found existing installation: PyYAML 3.13\n",
            "    Uninstalling PyYAML-3.13:\n",
            "      Successfully uninstalled PyYAML-3.13\n",
            "Successfully installed huggingface-hub-0.0.12 pyyaml-5.4.1 sacremoses-0.0.45 tokenizers-0.10.3 transformers-4.9.2\n"
          ],
          "name": "stdout"
        }
      ]
    },
    {
      "cell_type": "code",
      "metadata": {
        "colab": {
          "base_uri": "https://localhost:8080/",
          "height": 0,
          "referenced_widgets": [
            "9ff3b047b7ee4a6eb6565a07430dc947",
            "f4826d5421254571a648f31e77b5daf5",
            "c3725f0af71c4c31a49a04d20fb25610",
            "678f56810f8f459b8bfdf08c956b7aaa",
            "1f964fd8fe5643efa0c032b5ff1a6e40",
            "47f975404deb4910bb79d6fe23b2bd1d",
            "c35413eccf21461abbfa2c255abf31af",
            "947f3f13ffe743f0be99ef3084be4fa0",
            "6c5a724d6003419196c19cc59ef406c2",
            "638aabedd5614e7fa5ba32192bf38926",
            "7f1d5104082e41d4b0d82cf6cf77f672",
            "efc7dd453024433a9783e62880def4c5",
            "e85830e68dc1490fb744dc52bfd40628",
            "2c6a31d1499b474b9ae09c11e318b0b3",
            "dccb78bfac2f45f5ae08b176e2d94c02",
            "8bb21fd58ebe4ee38284be9c6801d447",
            "175a3687f34549fe99140e8532cb0725",
            "3f9b80de68f543cebc15db27927af807",
            "657c4f3246764365bd59cbdc8324512d",
            "affe37c8b05048fd9b41f525b905a155",
            "6e56faf1646f42399b82cd61514766ea",
            "50eefa3913d74a3e8b9448767082265a",
            "3289c5936b1c4ca584132f9f95dc0a82",
            "06357ce4962b4cc7b1acc5c6a5e179d2",
            "c63ce265b2f542a8ac37947ab62d77b7",
            "1f793d9f5d7845b683c58a288186caa6",
            "b606e7838d7a4d3685f1bb53dfd78c5a",
            "9b0523b358f94d87a4fdc004e55a7dbc",
            "aa1b3cb3f4c04a469f6909c73bc2167b",
            "173501e4708a4f729ecdb5ef4d684118",
            "2cb1f39ccff44d7787a9de383c6f0dc4",
            "95c7571047384b2f9c0a7da338b431b0",
            "745108b9522e419abb94183466d88401"
          ]
        },
        "id": "Nvh9x-YWamN4",
        "outputId": "77879e74-08d8-4082-e92d-4cf95373389a"
      },
      "source": [
        "#import bertModel\n",
        "from transformers import BertTokenizer,BertConfig,TFBertModel\n",
        "\n",
        "#load bert tokenizer and model\n",
        "# Import bert tokenizer, config and model\n",
        "tokenizer = BertTokenizer.from_pretrained(\"https://s3.amazonaws.com/models.huggingface.co/bert/bert-base-uncased-vocab.txt\")\n",
        "config = BertConfig.from_pretrained(\"https://s3.amazonaws.com/models.huggingface.co/bert/bert-base-uncased-config.json\")\n",
        "bert_model = TFBertModel.from_pretrained(\"https://s3.amazonaws.com/models.huggingface.co/bert/bert-base-uncased-tf_model.h5\",config=config)\n",
        "\n",
        "# train_encode = tokenizer.encode(x_train,truncation=True,padding=True,max_length=128)\n",
        "# test_encode = tokenizer.encode(x_test,truncation=True,padding=True,max_length=128)"
      ],
      "execution_count": 32,
      "outputs": [
        {
          "output_type": "stream",
          "text": [
            "/usr/local/lib/python3.7/dist-packages/transformers/tokenization_utils_base.py:1641: FutureWarning: Calling BertTokenizer.from_pretrained() with the path to a single file or url is deprecated and won't be possible anymore in v5. Use a model identifier or the path to a directory instead.\n",
            "  FutureWarning,\n"
          ],
          "name": "stderr"
        },
        {
          "output_type": "display_data",
          "data": {
            "application/vnd.jupyter.widget-view+json": {
              "model_id": "9ff3b047b7ee4a6eb6565a07430dc947",
              "version_minor": 0,
              "version_major": 2
            },
            "text/plain": [
              "Downloading:   0%|          | 0.00/232k [00:00<?, ?B/s]"
            ]
          },
          "metadata": {}
        },
        {
          "output_type": "display_data",
          "data": {
            "application/vnd.jupyter.widget-view+json": {
              "model_id": "efc7dd453024433a9783e62880def4c5",
              "version_minor": 0,
              "version_major": 2
            },
            "text/plain": [
              "Downloading:   0%|          | 0.00/433 [00:00<?, ?B/s]"
            ]
          },
          "metadata": {}
        },
        {
          "output_type": "display_data",
          "data": {
            "application/vnd.jupyter.widget-view+json": {
              "model_id": "3289c5936b1c4ca584132f9f95dc0a82",
              "version_minor": 0,
              "version_major": 2
            },
            "text/plain": [
              "Downloading:   0%|          | 0.00/536M [00:00<?, ?B/s]"
            ]
          },
          "metadata": {}
        },
        {
          "output_type": "stream",
          "text": [
            "Some layers from the model checkpoint at https://s3.amazonaws.com/models.huggingface.co/bert/bert-base-uncased-tf_model.h5 were not used when initializing TFBertModel: ['mlm___cls', 'nsp___cls']\n",
            "- This IS expected if you are initializing TFBertModel from the checkpoint of a model trained on another task or with another architecture (e.g. initializing a BertForSequenceClassification model from a BertForPreTraining model).\n",
            "- This IS NOT expected if you are initializing TFBertModel from the checkpoint of a model that you expect to be exactly identical (initializing a BertForSequenceClassification model from a BertForSequenceClassification model).\n",
            "All the layers of TFBertModel were initialized from the model checkpoint at https://s3.amazonaws.com/models.huggingface.co/bert/bert-base-uncased-tf_model.h5.\n",
            "If your task is similar to the task the model of the checkpoint was trained on, you can already use TFBertModel for predictions without further training.\n"
          ],
          "name": "stderr"
        }
      ]
    },
    {
      "cell_type": "code",
      "metadata": {
        "colab": {
          "base_uri": "https://localhost:8080/"
        },
        "id": "r1DZDQCl4uJC",
        "outputId": "8ba91fb3-f90a-4e2a-c41f-bf88fcca651f"
      },
      "source": [
        "#print token\n",
        "text = x_train[0]\n",
        "\n",
        "print(text)\n",
        "print(tokenizer.encode(text,max_length=128))\n",
        "print(tokenizer.convert_ids_to_tokens(tokenizer.encode(text,max_length=128)))"
      ],
      "execution_count": 33,
      "outputs": [
        {
          "output_type": "stream",
          "text": [
            "Truncation was not explicitly activated but `max_length` is provided a specific value, please use `truncation=True` to explicitly truncate examples to max length. Defaulting to 'longest_first' truncation strategy. If you encode pairs of sequences (GLUE-style) with the tokenizer you can select this strategy more precisely by providing a specific strategy to `truncation`.\n"
          ],
          "name": "stderr"
        },
        {
          "output_type": "stream",
          "text": [
            "refugio oil spill may costlier bigger projected plains american pipeline oil spill\n",
            "[101, 25416, 15916, 3695, 3514, 14437, 2089, 3465, 14355, 7046, 11310, 8575, 2137, 13117, 3514, 14437, 102]\n",
            "['[CLS]', 'ref', '##ug', '##io', 'oil', 'spill', 'may', 'cost', '##lier', 'bigger', 'projected', 'plains', 'american', 'pipeline', 'oil', 'spill', '[SEP]']\n"
          ],
          "name": "stdout"
        }
      ]
    },
    {
      "cell_type": "code",
      "metadata": {
        "id": "egn56Teff9uQ"
      },
      "source": [
        "#vector < 128 add 0 as padding\n",
        "#train data\n",
        "import numpy as np\n",
        "train_ids = []\n",
        "train_mask = []\n",
        "train_token = []\n",
        "for text in all_clean_text:\n",
        "  token = tokenizer.encode(text,max_length=128)\n",
        "  padding_size = 128 - len(token)\n",
        "  train_ids.append(token + [0]*padding_size)\n",
        "  train_mask.append([1]*len(token) + [0]*padding_size) #only token is 1 other padding to 0\n",
        "  train_token.append([0]*128) #all 0\n",
        "train_ids = np.array(train_ids)\n",
        "train_mask = np.array(train_mask)\n",
        "train_token = np.array(train_token)"
      ],
      "execution_count": 34,
      "outputs": []
    },
    {
      "cell_type": "code",
      "metadata": {
        "id": "iyGhM4SJKAY8"
      },
      "source": [
        "#test data\n",
        "test_ids = []\n",
        "test_mask = []\n",
        "test_token = []\n",
        "for text in all_clean_text_test:\n",
        "  token = tokenizer.encode(text,max_length=128)\n",
        "  padding_size = 128 - len(token)\n",
        "  test_ids.append(token + [0]*padding_size)\n",
        "  test_mask.append([1]*len(token) + [0]*padding_size) #only token is 1 other padding to 0\n",
        "  test_token.append([0]*128) #all 0\n",
        "test_ids = np.array(test_ids)\n",
        "test_mask = np.array(test_mask)\n",
        "test_token = np.array(test_token)"
      ],
      "execution_count": 60,
      "outputs": []
    },
    {
      "cell_type": "code",
      "metadata": {
        "colab": {
          "base_uri": "https://localhost:8080/"
        },
        "id": "hxaHYsNLLZxh",
        "outputId": "215e56b0-c12b-440e-eeae-829fdba92544"
      },
      "source": [
        "test_token"
      ],
      "execution_count": 61,
      "outputs": [
        {
          "output_type": "execute_result",
          "data": {
            "text/plain": [
              "array([[0, 0, 0, ..., 0, 0, 0],\n",
              "       [0, 0, 0, ..., 0, 0, 0],\n",
              "       [0, 0, 0, ..., 0, 0, 0],\n",
              "       ...,\n",
              "       [0, 0, 0, ..., 0, 0, 0],\n",
              "       [0, 0, 0, ..., 0, 0, 0],\n",
              "       [0, 0, 0, ..., 0, 0, 0]])"
            ]
          },
          "metadata": {},
          "execution_count": 61
        }
      ]
    },
    {
      "cell_type": "code",
      "metadata": {
        "id": "EMLJ2Lszhkak"
      },
      "source": [
        "#change label to array\n",
        "train_label = np.array(label)"
      ],
      "execution_count": 35,
      "outputs": []
    },
    {
      "cell_type": "code",
      "metadata": {
        "colab": {
          "base_uri": "https://localhost:8080/"
        },
        "id": "tVpmq1G5hsC6",
        "outputId": "8ac5f9d5-672e-4dbf-c2c4-2083c7601348"
      },
      "source": [
        "train_label"
      ],
      "execution_count": 36,
      "outputs": [
        {
          "output_type": "execute_result",
          "data": {
            "text/plain": [
              "array([1, 1, 1, ..., 1, 1, 1])"
            ]
          },
          "metadata": {},
          "execution_count": 36
        }
      ]
    },
    {
      "cell_type": "code",
      "metadata": {
        "colab": {
          "base_uri": "https://localhost:8080/"
        },
        "id": "eh43g4yEg8J1",
        "outputId": "52950d25-8400-45b4-d6f5-b223f84d908b"
      },
      "source": [
        "print(train_ids[8])\n",
        "print(train_mask[8])\n",
        "print(train_token[8])"
      ],
      "execution_count": 37,
      "outputs": [
        {
          "output_type": "stream",
          "text": [
            "[  101  2045  2015  5057 13982  6230  2311  2408  2395   102     0     0\n",
            "     0     0     0     0     0     0     0     0     0     0     0     0\n",
            "     0     0     0     0     0     0     0     0     0     0     0     0\n",
            "     0     0     0     0     0     0     0     0     0     0     0     0\n",
            "     0     0     0     0     0     0     0     0     0     0     0     0\n",
            "     0     0     0     0     0     0     0     0     0     0     0     0\n",
            "     0     0     0     0     0     0     0     0     0     0     0     0\n",
            "     0     0     0     0     0     0     0     0     0     0     0     0\n",
            "     0     0     0     0     0     0     0     0     0     0     0     0\n",
            "     0     0     0     0     0     0     0     0     0     0     0     0\n",
            "     0     0     0     0     0     0     0     0]\n",
            "[1 1 1 1 1 1 1 1 1 1 0 0 0 0 0 0 0 0 0 0 0 0 0 0 0 0 0 0 0 0 0 0 0 0 0 0 0\n",
            " 0 0 0 0 0 0 0 0 0 0 0 0 0 0 0 0 0 0 0 0 0 0 0 0 0 0 0 0 0 0 0 0 0 0 0 0 0\n",
            " 0 0 0 0 0 0 0 0 0 0 0 0 0 0 0 0 0 0 0 0 0 0 0 0 0 0 0 0 0 0 0 0 0 0 0 0 0\n",
            " 0 0 0 0 0 0 0 0 0 0 0 0 0 0 0 0 0]\n",
            "[0 0 0 0 0 0 0 0 0 0 0 0 0 0 0 0 0 0 0 0 0 0 0 0 0 0 0 0 0 0 0 0 0 0 0 0 0\n",
            " 0 0 0 0 0 0 0 0 0 0 0 0 0 0 0 0 0 0 0 0 0 0 0 0 0 0 0 0 0 0 0 0 0 0 0 0 0\n",
            " 0 0 0 0 0 0 0 0 0 0 0 0 0 0 0 0 0 0 0 0 0 0 0 0 0 0 0 0 0 0 0 0 0 0 0 0 0\n",
            " 0 0 0 0 0 0 0 0 0 0 0 0 0 0 0 0 0]\n"
          ],
          "name": "stdout"
        }
      ]
    },
    {
      "cell_type": "code",
      "metadata": {
        "colab": {
          "base_uri": "https://localhost:8080/"
        },
        "id": "Q8lq8YLxhtRs",
        "outputId": "70c3dfb3-9cb7-40e3-823f-01a9412517e4"
      },
      "source": [
        "#now create a model and train\n",
        "import keras\n",
        "input_ids = keras.layers.Input(shape=(128,),dtype='int32')\n",
        "attension_mask = keras.layers.Input(shape=(128,),dtype='int32')\n",
        "token_type_ids = keras.layers.Input(shape=(128,),dtype='int32')\n",
        "Bertmodel  = bert_model([input_ids,attension_mask,token_type_ids])\n",
        "lastStateOutPut = Bertmodel.last_hidden_state\n",
        "poolerOutput =  Bertmodel.pooler_output\n",
        "# outputs = keras.layers.Dense(1,activation='sigmoid')(x)\n",
        "# model = keras.models.Model(inputs=[input_ids,attension_mask,token_type_ids],outputs=outputs)\n",
        "# model.compile(loss='binary_crossentropy',optimizer=keras.optimizers.Adam(lr=\"3e-6\"),metrics=['accuracy'])\n"
      ],
      "execution_count": 38,
      "outputs": [
        {
          "output_type": "stream",
          "text": [
            "WARNING:tensorflow:The parameters `output_attentions`, `output_hidden_states` and `use_cache` cannot be updated when calling a model.They have to be set to True/False in the config object (i.e.: `config=XConfig.from_pretrained('name', output_attentions=True)`).\n",
            "WARNING:tensorflow:AutoGraph could not transform <bound method Socket.send of <zmq.Socket(zmq.PUSH) at 0x7f5ce3830ec0>> and will run it as-is.\n",
            "Please report this to the TensorFlow team. When filing the bug, set the verbosity to 10 (on Linux, `export AUTOGRAPH_VERBOSITY=10`) and attach the full output.\n",
            "Cause: module, class, method, function, traceback, frame, or code object was expected, got cython_function_or_method\n",
            "To silence this warning, decorate the function with @tf.autograph.experimental.do_not_convert\n",
            "WARNING: AutoGraph could not transform <bound method Socket.send of <zmq.Socket(zmq.PUSH) at 0x7f5ce3830ec0>> and will run it as-is.\n",
            "Please report this to the TensorFlow team. When filing the bug, set the verbosity to 10 (on Linux, `export AUTOGRAPH_VERBOSITY=10`) and attach the full output.\n",
            "Cause: module, class, method, function, traceback, frame, or code object was expected, got cython_function_or_method\n",
            "To silence this warning, decorate the function with @tf.autograph.experimental.do_not_convert\n",
            "WARNING:tensorflow:AutoGraph could not transform <function wrap at 0x7f5cfe9e6950> and will run it as-is.\n",
            "Cause: while/else statement not yet supported\n",
            "To silence this warning, decorate the function with @tf.autograph.experimental.do_not_convert\n",
            "WARNING: AutoGraph could not transform <function wrap at 0x7f5cfe9e6950> and will run it as-is.\n",
            "Cause: while/else statement not yet supported\n",
            "To silence this warning, decorate the function with @tf.autograph.experimental.do_not_convert\n",
            "WARNING:tensorflow:The parameter `return_dict` cannot be set in graph mode and will always be set to `True`.\n"
          ],
          "name": "stdout"
        }
      ]
    },
    {
      "cell_type": "code",
      "metadata": {
        "colab": {
          "base_uri": "https://localhost:8080/"
        },
        "id": "FZn-kWQe6qHw",
        "outputId": "e9cbaca4-7779-4466-89d6-cda09522fe32"
      },
      "source": [
        "poolerOutput"
      ],
      "execution_count": 39,
      "outputs": [
        {
          "output_type": "execute_result",
          "data": {
            "text/plain": [
              "<KerasTensor: shape=(None, 768) dtype=float32 (created by layer 'tf_bert_model')>"
            ]
          },
          "metadata": {},
          "execution_count": 39
        }
      ]
    },
    {
      "cell_type": "code",
      "metadata": {
        "id": "iRTQLtikh9c9"
      },
      "source": [
        "#create the dense layout with Bert output\n",
        "denseOutput = keras.layers.Dense(units=1,activation=\"sigmoid\")(poolerOutput)"
      ],
      "execution_count": 40,
      "outputs": []
    },
    {
      "cell_type": "code",
      "metadata": {
        "id": "88WYqDPx7ZBX"
      },
      "source": [
        "#create keras model\n",
        "model = keras.models.Model(inputs=[input_ids,attension_mask,token_type_ids],outputs = denseOutput)"
      ],
      "execution_count": 41,
      "outputs": []
    },
    {
      "cell_type": "code",
      "metadata": {
        "id": "WdVB9O6T7rfH"
      },
      "source": [
        "#compile the model\n",
        "#loss func :binary_crossentropy\n",
        "#optimizer = Adam\n",
        "model.compile(loss=\"binary_crossentropy\",optimizer=\"adam\",metrics=['accuracy'])"
      ],
      "execution_count": 42,
      "outputs": []
    },
    {
      "cell_type": "code",
      "metadata": {
        "id": "lmKxJzy08uz-"
      },
      "source": [
        "#split data set with train and test\n",
        "(x_train_ids,x_test_index,x_train_mask,x_test_mask,x_train_token,x_test_token,y_train,y_test)= train_test_split(train_ids,train_mask,train_token,train_label,test_size = 0.1,stratify=train_label, random_state=0)"
      ],
      "execution_count": 43,
      "outputs": []
    },
    {
      "cell_type": "code",
      "metadata": {
        "id": "x0ovaNmr8xL0"
      },
      "source": [
        "#set earlyStopping prevent overfitting\n",
        "#patience : max epoch to detect  the improvement\n",
        "#restore_best_weights :backup the besh weights when earlyStopping\n",
        "training_early_stopping = keras.callbacks.EarlyStopping(patience=3,restore_best_weights=True)"
      ],
      "execution_count": 44,
      "outputs": []
    },
    {
      "cell_type": "code",
      "metadata": {
        "colab": {
          "base_uri": "https://localhost:8080/"
        },
        "id": "XG6Hk2kT--K6",
        "outputId": "b4e36b98-7a01-4026-8141-a22997f64dca"
      },
      "source": [
        "#fitting the model\n",
        "model.fit([x_train_ids,x_train_mask,x_train_token],y_train,epochs=5,batch_size=32,\n",
        "          validation_data=([x_test_index,x_test_mask,x_test_token],y_test),callbacks=[training_early_stopping])"
      ],
      "execution_count": 45,
      "outputs": [
        {
          "output_type": "stream",
          "text": [
            "Epoch 1/5\n",
            "WARNING:tensorflow:The parameters `output_attentions`, `output_hidden_states` and `use_cache` cannot be updated when calling a model.They have to be set to True/False in the config object (i.e.: `config=XConfig.from_pretrained('name', output_attentions=True)`).\n",
            "WARNING:tensorflow:The parameter `return_dict` cannot be set in graph mode and will always be set to `True`.\n",
            "WARNING:tensorflow:The parameters `output_attentions`, `output_hidden_states` and `use_cache` cannot be updated when calling a model.They have to be set to True/False in the config object (i.e.: `config=XConfig.from_pretrained('name', output_attentions=True)`).\n",
            "WARNING:tensorflow:The parameter `return_dict` cannot be set in graph mode and will always be set to `True`.\n",
            "215/215 [==============================] - ETA: 0s - loss: 0.7160 - accuracy: 0.5420WARNING:tensorflow:The parameters `output_attentions`, `output_hidden_states` and `use_cache` cannot be updated when calling a model.They have to be set to True/False in the config object (i.e.: `config=XConfig.from_pretrained('name', output_attentions=True)`).\n",
            "WARNING:tensorflow:The parameter `return_dict` cannot be set in graph mode and will always be set to `True`.\n",
            "215/215 [==============================] - 353s 2s/step - loss: 0.7160 - accuracy: 0.5420 - val_loss: 0.6848 - val_accuracy: 0.5709\n",
            "Epoch 2/5\n",
            "215/215 [==============================] - 330s 2s/step - loss: 0.6910 - accuracy: 0.5590 - val_loss: 0.7457 - val_accuracy: 0.4291\n",
            "Epoch 3/5\n",
            "215/215 [==============================] - 330s 2s/step - loss: 0.6971 - accuracy: 0.5458 - val_loss: 0.6953 - val_accuracy: 0.5709\n",
            "Epoch 4/5\n",
            "215/215 [==============================] - 329s 2s/step - loss: 0.6998 - accuracy: 0.5420 - val_loss: 0.7044 - val_accuracy: 0.4291\n"
          ],
          "name": "stdout"
        },
        {
          "output_type": "execute_result",
          "data": {
            "text/plain": [
              "<keras.callbacks.History at 0x7f5be3487110>"
            ]
          },
          "metadata": {},
          "execution_count": 45
        }
      ]
    },
    {
      "cell_type": "code",
      "metadata": {
        "colab": {
          "base_uri": "https://localhost:8080/"
        },
        "id": "f2rZz4gVJWV9",
        "outputId": "bc8acf54-5b80-4522-c66c-85b940d9b8aa"
      },
      "source": [
        "#dense is output layer \n",
        "#3Input to bert to dense\n",
        "model.summary()"
      ],
      "execution_count": 58,
      "outputs": [
        {
          "output_type": "stream",
          "text": [
            "Model: \"model\"\n",
            "__________________________________________________________________________________________________\n",
            "Layer (type)                    Output Shape         Param #     Connected to                     \n",
            "==================================================================================================\n",
            "input_1 (InputLayer)            [(None, 128)]        0                                            \n",
            "__________________________________________________________________________________________________\n",
            "input_2 (InputLayer)            [(None, 128)]        0                                            \n",
            "__________________________________________________________________________________________________\n",
            "input_3 (InputLayer)            [(None, 128)]        0                                            \n",
            "__________________________________________________________________________________________________\n",
            "tf_bert_model (TFBertModel)     TFBaseModelOutputWit 109482240   input_1[0][0]                    \n",
            "                                                                 input_2[0][0]                    \n",
            "                                                                 input_3[0][0]                    \n",
            "__________________________________________________________________________________________________\n",
            "dense (Dense)                   (None, 1)            769         tf_bert_model[0][1]              \n",
            "==================================================================================================\n",
            "Total params: 109,483,009\n",
            "Trainable params: 109,483,009\n",
            "Non-trainable params: 0\n",
            "__________________________________________________________________________________________________\n"
          ],
          "name": "stdout"
        }
      ]
    },
    {
      "cell_type": "code",
      "metadata": {
        "colab": {
          "base_uri": "https://localhost:8080/"
        },
        "id": "dCXCHR6TJpTx",
        "outputId": "61b871d5-b69b-4482-d56b-8efe70e54987"
      },
      "source": [
        "#predict the model\n",
        "y_predicted = model.predict([test_ids,test_mask,test_token],batch_size=32,verbose=1)"
      ],
      "execution_count": 62,
      "outputs": [
        {
          "output_type": "stream",
          "text": [
            "WARNING:tensorflow:The parameters `output_attentions`, `output_hidden_states` and `use_cache` cannot be updated when calling a model.They have to be set to True/False in the config object (i.e.: `config=XConfig.from_pretrained('name', output_attentions=True)`).\n",
            "WARNING:tensorflow:The parameter `return_dict` cannot be set in graph mode and will always be set to `True`.\n",
            "102/102 [==============================] - 57s 522ms/step\n"
          ],
          "name": "stdout"
        }
      ]
    },
    {
      "cell_type": "code",
      "metadata": {
        "id": "BiIs8t0wLwna"
      },
      "source": [
        "y_predicted = y_predicted.ravel()"
      ],
      "execution_count": 63,
      "outputs": []
    },
    {
      "cell_type": "code",
      "metadata": {
        "id": "9tqM4m8KL1yx"
      },
      "source": [
        "y_predicted = (y_predicted >= 0.5).astype(int)"
      ],
      "execution_count": 65,
      "outputs": []
    },
    {
      "cell_type": "code",
      "metadata": {
        "id": "kIZeZgmjMHVN"
      },
      "source": [
        "#read submissition csv\n",
        "submission = pd.read_csv(\"sample_submission.csv\")\n",
        "submission[\"target\"] = y_predicted\n",
        "submission.to_csv(\"nlp_submission.csv\",index=False)"
      ],
      "execution_count": 70,
      "outputs": []
    },
    {
      "cell_type": "code",
      "metadata": {
        "colab": {
          "base_uri": "https://localhost:8080/",
          "height": 0
        },
        "id": "48rVhmUvMumr",
        "outputId": "39c1d2f7-743e-47ed-9756-ded6d1c8ca6c"
      },
      "source": [
        "submission"
      ],
      "execution_count": 71,
      "outputs": [
        {
          "output_type": "execute_result",
          "data": {
            "text/html": [
              "<div>\n",
              "<style scoped>\n",
              "    .dataframe tbody tr th:only-of-type {\n",
              "        vertical-align: middle;\n",
              "    }\n",
              "\n",
              "    .dataframe tbody tr th {\n",
              "        vertical-align: top;\n",
              "    }\n",
              "\n",
              "    .dataframe thead th {\n",
              "        text-align: right;\n",
              "    }\n",
              "</style>\n",
              "<table border=\"1\" class=\"dataframe\">\n",
              "  <thead>\n",
              "    <tr style=\"text-align: right;\">\n",
              "      <th></th>\n",
              "      <th>id</th>\n",
              "      <th>target</th>\n",
              "    </tr>\n",
              "  </thead>\n",
              "  <tbody>\n",
              "    <tr>\n",
              "      <th>0</th>\n",
              "      <td>0</td>\n",
              "      <td>0</td>\n",
              "    </tr>\n",
              "    <tr>\n",
              "      <th>1</th>\n",
              "      <td>2</td>\n",
              "      <td>0</td>\n",
              "    </tr>\n",
              "    <tr>\n",
              "      <th>2</th>\n",
              "      <td>3</td>\n",
              "      <td>0</td>\n",
              "    </tr>\n",
              "    <tr>\n",
              "      <th>3</th>\n",
              "      <td>9</td>\n",
              "      <td>0</td>\n",
              "    </tr>\n",
              "    <tr>\n",
              "      <th>4</th>\n",
              "      <td>11</td>\n",
              "      <td>0</td>\n",
              "    </tr>\n",
              "    <tr>\n",
              "      <th>...</th>\n",
              "      <td>...</td>\n",
              "      <td>...</td>\n",
              "    </tr>\n",
              "    <tr>\n",
              "      <th>3258</th>\n",
              "      <td>10861</td>\n",
              "      <td>0</td>\n",
              "    </tr>\n",
              "    <tr>\n",
              "      <th>3259</th>\n",
              "      <td>10865</td>\n",
              "      <td>0</td>\n",
              "    </tr>\n",
              "    <tr>\n",
              "      <th>3260</th>\n",
              "      <td>10868</td>\n",
              "      <td>0</td>\n",
              "    </tr>\n",
              "    <tr>\n",
              "      <th>3261</th>\n",
              "      <td>10874</td>\n",
              "      <td>0</td>\n",
              "    </tr>\n",
              "    <tr>\n",
              "      <th>3262</th>\n",
              "      <td>10875</td>\n",
              "      <td>0</td>\n",
              "    </tr>\n",
              "  </tbody>\n",
              "</table>\n",
              "<p>3263 rows × 2 columns</p>\n",
              "</div>"
            ],
            "text/plain": [
              "         id  target\n",
              "0         0       0\n",
              "1         2       0\n",
              "2         3       0\n",
              "3         9       0\n",
              "4        11       0\n",
              "...     ...     ...\n",
              "3258  10861       0\n",
              "3259  10865       0\n",
              "3260  10868       0\n",
              "3261  10874       0\n",
              "3262  10875       0\n",
              "\n",
              "[3263 rows x 2 columns]"
            ]
          },
          "metadata": {},
          "execution_count": 71
        }
      ]
    }
  ]
}