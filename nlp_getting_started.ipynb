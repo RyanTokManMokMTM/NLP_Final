{
  "nbformat": 4,
  "nbformat_minor": 0,
  "metadata": {
    "colab": {
      "name": "nlp-getting-started.ipynb",
      "provenance": [],
      "authorship_tag": "ABX9TyP9WINFTce85oAtH6c+oSjL",
      "include_colab_link": true
    },
    "kernelspec": {
      "name": "python3",
      "display_name": "Python 3"
    },
    "language_info": {
      "name": "python"
    },
    "accelerator": "GPU",
    "widgets": {
      "application/vnd.jupyter.widget-state+json": {
        "8826095e66c84c60bd44d79676d93a80": {
          "model_module": "@jupyter-widgets/controls",
          "model_name": "HBoxModel",
          "model_module_version": "1.5.0",
          "state": {
            "_view_name": "HBoxView",
            "_dom_classes": [],
            "_model_name": "HBoxModel",
            "_view_module": "@jupyter-widgets/controls",
            "_model_module_version": "1.5.0",
            "_view_count": null,
            "_view_module_version": "1.5.0",
            "box_style": "",
            "layout": "IPY_MODEL_4309d51c46934364ada0778f707b9c69",
            "_model_module": "@jupyter-widgets/controls",
            "children": [
              "IPY_MODEL_fda54d59ca85475ea47a2c43d51920d6",
              "IPY_MODEL_45fefa2890fe45d5b40fba8791aa46c0",
              "IPY_MODEL_5c093026f742451581fb5efb5a29700b"
            ]
          }
        },
        "4309d51c46934364ada0778f707b9c69": {
          "model_module": "@jupyter-widgets/base",
          "model_name": "LayoutModel",
          "model_module_version": "1.2.0",
          "state": {
            "_view_name": "LayoutView",
            "grid_template_rows": null,
            "right": null,
            "justify_content": null,
            "_view_module": "@jupyter-widgets/base",
            "overflow": null,
            "_model_module_version": "1.2.0",
            "_view_count": null,
            "flex_flow": null,
            "width": null,
            "min_width": null,
            "border": null,
            "align_items": null,
            "bottom": null,
            "_model_module": "@jupyter-widgets/base",
            "top": null,
            "grid_column": null,
            "overflow_y": null,
            "overflow_x": null,
            "grid_auto_flow": null,
            "grid_area": null,
            "grid_template_columns": null,
            "flex": null,
            "_model_name": "LayoutModel",
            "justify_items": null,
            "grid_row": null,
            "max_height": null,
            "align_content": null,
            "visibility": null,
            "align_self": null,
            "height": null,
            "min_height": null,
            "padding": null,
            "grid_auto_rows": null,
            "grid_gap": null,
            "max_width": null,
            "order": null,
            "_view_module_version": "1.2.0",
            "grid_template_areas": null,
            "object_position": null,
            "object_fit": null,
            "grid_auto_columns": null,
            "margin": null,
            "display": null,
            "left": null
          }
        },
        "fda54d59ca85475ea47a2c43d51920d6": {
          "model_module": "@jupyter-widgets/controls",
          "model_name": "HTMLModel",
          "model_module_version": "1.5.0",
          "state": {
            "_view_name": "HTMLView",
            "style": "IPY_MODEL_0c4bc27d4254457da9d3d4a1611797a7",
            "_dom_classes": [],
            "description": "",
            "_model_name": "HTMLModel",
            "placeholder": "​",
            "_view_module": "@jupyter-widgets/controls",
            "_model_module_version": "1.5.0",
            "value": "Downloading: 100%",
            "_view_count": null,
            "_view_module_version": "1.5.0",
            "description_tooltip": null,
            "_model_module": "@jupyter-widgets/controls",
            "layout": "IPY_MODEL_6fc199a410f44f40965cfa6615c5f95c"
          }
        },
        "45fefa2890fe45d5b40fba8791aa46c0": {
          "model_module": "@jupyter-widgets/controls",
          "model_name": "FloatProgressModel",
          "model_module_version": "1.5.0",
          "state": {
            "_view_name": "ProgressView",
            "style": "IPY_MODEL_7ac4e75fb5e649acb2a9e50cb3947e65",
            "_dom_classes": [],
            "description": "",
            "_model_name": "FloatProgressModel",
            "bar_style": "success",
            "max": 231508,
            "_view_module": "@jupyter-widgets/controls",
            "_model_module_version": "1.5.0",
            "value": 231508,
            "_view_count": null,
            "_view_module_version": "1.5.0",
            "orientation": "horizontal",
            "min": 0,
            "description_tooltip": null,
            "_model_module": "@jupyter-widgets/controls",
            "layout": "IPY_MODEL_0cac0c9943a6450189c6d9567e923eb5"
          }
        },
        "5c093026f742451581fb5efb5a29700b": {
          "model_module": "@jupyter-widgets/controls",
          "model_name": "HTMLModel",
          "model_module_version": "1.5.0",
          "state": {
            "_view_name": "HTMLView",
            "style": "IPY_MODEL_92a99d9dffdf4be989755dcaa4dbb9df",
            "_dom_classes": [],
            "description": "",
            "_model_name": "HTMLModel",
            "placeholder": "​",
            "_view_module": "@jupyter-widgets/controls",
            "_model_module_version": "1.5.0",
            "value": " 232k/232k [00:00&lt;00:00, 837kB/s]",
            "_view_count": null,
            "_view_module_version": "1.5.0",
            "description_tooltip": null,
            "_model_module": "@jupyter-widgets/controls",
            "layout": "IPY_MODEL_ba1dca3d1fb74f159076395bf1d8ac5a"
          }
        },
        "0c4bc27d4254457da9d3d4a1611797a7": {
          "model_module": "@jupyter-widgets/controls",
          "model_name": "DescriptionStyleModel",
          "model_module_version": "1.5.0",
          "state": {
            "_view_name": "StyleView",
            "_model_name": "DescriptionStyleModel",
            "description_width": "",
            "_view_module": "@jupyter-widgets/base",
            "_model_module_version": "1.5.0",
            "_view_count": null,
            "_view_module_version": "1.2.0",
            "_model_module": "@jupyter-widgets/controls"
          }
        },
        "6fc199a410f44f40965cfa6615c5f95c": {
          "model_module": "@jupyter-widgets/base",
          "model_name": "LayoutModel",
          "model_module_version": "1.2.0",
          "state": {
            "_view_name": "LayoutView",
            "grid_template_rows": null,
            "right": null,
            "justify_content": null,
            "_view_module": "@jupyter-widgets/base",
            "overflow": null,
            "_model_module_version": "1.2.0",
            "_view_count": null,
            "flex_flow": null,
            "width": null,
            "min_width": null,
            "border": null,
            "align_items": null,
            "bottom": null,
            "_model_module": "@jupyter-widgets/base",
            "top": null,
            "grid_column": null,
            "overflow_y": null,
            "overflow_x": null,
            "grid_auto_flow": null,
            "grid_area": null,
            "grid_template_columns": null,
            "flex": null,
            "_model_name": "LayoutModel",
            "justify_items": null,
            "grid_row": null,
            "max_height": null,
            "align_content": null,
            "visibility": null,
            "align_self": null,
            "height": null,
            "min_height": null,
            "padding": null,
            "grid_auto_rows": null,
            "grid_gap": null,
            "max_width": null,
            "order": null,
            "_view_module_version": "1.2.0",
            "grid_template_areas": null,
            "object_position": null,
            "object_fit": null,
            "grid_auto_columns": null,
            "margin": null,
            "display": null,
            "left": null
          }
        },
        "7ac4e75fb5e649acb2a9e50cb3947e65": {
          "model_module": "@jupyter-widgets/controls",
          "model_name": "ProgressStyleModel",
          "model_module_version": "1.5.0",
          "state": {
            "_view_name": "StyleView",
            "_model_name": "ProgressStyleModel",
            "description_width": "",
            "_view_module": "@jupyter-widgets/base",
            "_model_module_version": "1.5.0",
            "_view_count": null,
            "_view_module_version": "1.2.0",
            "bar_color": null,
            "_model_module": "@jupyter-widgets/controls"
          }
        },
        "0cac0c9943a6450189c6d9567e923eb5": {
          "model_module": "@jupyter-widgets/base",
          "model_name": "LayoutModel",
          "model_module_version": "1.2.0",
          "state": {
            "_view_name": "LayoutView",
            "grid_template_rows": null,
            "right": null,
            "justify_content": null,
            "_view_module": "@jupyter-widgets/base",
            "overflow": null,
            "_model_module_version": "1.2.0",
            "_view_count": null,
            "flex_flow": null,
            "width": null,
            "min_width": null,
            "border": null,
            "align_items": null,
            "bottom": null,
            "_model_module": "@jupyter-widgets/base",
            "top": null,
            "grid_column": null,
            "overflow_y": null,
            "overflow_x": null,
            "grid_auto_flow": null,
            "grid_area": null,
            "grid_template_columns": null,
            "flex": null,
            "_model_name": "LayoutModel",
            "justify_items": null,
            "grid_row": null,
            "max_height": null,
            "align_content": null,
            "visibility": null,
            "align_self": null,
            "height": null,
            "min_height": null,
            "padding": null,
            "grid_auto_rows": null,
            "grid_gap": null,
            "max_width": null,
            "order": null,
            "_view_module_version": "1.2.0",
            "grid_template_areas": null,
            "object_position": null,
            "object_fit": null,
            "grid_auto_columns": null,
            "margin": null,
            "display": null,
            "left": null
          }
        },
        "92a99d9dffdf4be989755dcaa4dbb9df": {
          "model_module": "@jupyter-widgets/controls",
          "model_name": "DescriptionStyleModel",
          "model_module_version": "1.5.0",
          "state": {
            "_view_name": "StyleView",
            "_model_name": "DescriptionStyleModel",
            "description_width": "",
            "_view_module": "@jupyter-widgets/base",
            "_model_module_version": "1.5.0",
            "_view_count": null,
            "_view_module_version": "1.2.0",
            "_model_module": "@jupyter-widgets/controls"
          }
        },
        "ba1dca3d1fb74f159076395bf1d8ac5a": {
          "model_module": "@jupyter-widgets/base",
          "model_name": "LayoutModel",
          "model_module_version": "1.2.0",
          "state": {
            "_view_name": "LayoutView",
            "grid_template_rows": null,
            "right": null,
            "justify_content": null,
            "_view_module": "@jupyter-widgets/base",
            "overflow": null,
            "_model_module_version": "1.2.0",
            "_view_count": null,
            "flex_flow": null,
            "width": null,
            "min_width": null,
            "border": null,
            "align_items": null,
            "bottom": null,
            "_model_module": "@jupyter-widgets/base",
            "top": null,
            "grid_column": null,
            "overflow_y": null,
            "overflow_x": null,
            "grid_auto_flow": null,
            "grid_area": null,
            "grid_template_columns": null,
            "flex": null,
            "_model_name": "LayoutModel",
            "justify_items": null,
            "grid_row": null,
            "max_height": null,
            "align_content": null,
            "visibility": null,
            "align_self": null,
            "height": null,
            "min_height": null,
            "padding": null,
            "grid_auto_rows": null,
            "grid_gap": null,
            "max_width": null,
            "order": null,
            "_view_module_version": "1.2.0",
            "grid_template_areas": null,
            "object_position": null,
            "object_fit": null,
            "grid_auto_columns": null,
            "margin": null,
            "display": null,
            "left": null
          }
        },
        "881d320e81054accb2b17b8cfd719e87": {
          "model_module": "@jupyter-widgets/controls",
          "model_name": "HBoxModel",
          "model_module_version": "1.5.0",
          "state": {
            "_view_name": "HBoxView",
            "_dom_classes": [],
            "_model_name": "HBoxModel",
            "_view_module": "@jupyter-widgets/controls",
            "_model_module_version": "1.5.0",
            "_view_count": null,
            "_view_module_version": "1.5.0",
            "box_style": "",
            "layout": "IPY_MODEL_81e435401d54451391609961e487d1c5",
            "_model_module": "@jupyter-widgets/controls",
            "children": [
              "IPY_MODEL_4b2cdb197601437298c2c71180f7ba18",
              "IPY_MODEL_0757f9caad264c76b9fdbb580116eb1e",
              "IPY_MODEL_d68a5eca1b434bcea8287cdc15a39c9f"
            ]
          }
        },
        "81e435401d54451391609961e487d1c5": {
          "model_module": "@jupyter-widgets/base",
          "model_name": "LayoutModel",
          "model_module_version": "1.2.0",
          "state": {
            "_view_name": "LayoutView",
            "grid_template_rows": null,
            "right": null,
            "justify_content": null,
            "_view_module": "@jupyter-widgets/base",
            "overflow": null,
            "_model_module_version": "1.2.0",
            "_view_count": null,
            "flex_flow": null,
            "width": null,
            "min_width": null,
            "border": null,
            "align_items": null,
            "bottom": null,
            "_model_module": "@jupyter-widgets/base",
            "top": null,
            "grid_column": null,
            "overflow_y": null,
            "overflow_x": null,
            "grid_auto_flow": null,
            "grid_area": null,
            "grid_template_columns": null,
            "flex": null,
            "_model_name": "LayoutModel",
            "justify_items": null,
            "grid_row": null,
            "max_height": null,
            "align_content": null,
            "visibility": null,
            "align_self": null,
            "height": null,
            "min_height": null,
            "padding": null,
            "grid_auto_rows": null,
            "grid_gap": null,
            "max_width": null,
            "order": null,
            "_view_module_version": "1.2.0",
            "grid_template_areas": null,
            "object_position": null,
            "object_fit": null,
            "grid_auto_columns": null,
            "margin": null,
            "display": null,
            "left": null
          }
        },
        "4b2cdb197601437298c2c71180f7ba18": {
          "model_module": "@jupyter-widgets/controls",
          "model_name": "HTMLModel",
          "model_module_version": "1.5.0",
          "state": {
            "_view_name": "HTMLView",
            "style": "IPY_MODEL_fe8a076b7acf4fed88c82ea28cc8afba",
            "_dom_classes": [],
            "description": "",
            "_model_name": "HTMLModel",
            "placeholder": "​",
            "_view_module": "@jupyter-widgets/controls",
            "_model_module_version": "1.5.0",
            "value": "Downloading: 100%",
            "_view_count": null,
            "_view_module_version": "1.5.0",
            "description_tooltip": null,
            "_model_module": "@jupyter-widgets/controls",
            "layout": "IPY_MODEL_d2c674665c9340eb8f77a02ec10d794b"
          }
        },
        "0757f9caad264c76b9fdbb580116eb1e": {
          "model_module": "@jupyter-widgets/controls",
          "model_name": "FloatProgressModel",
          "model_module_version": "1.5.0",
          "state": {
            "_view_name": "ProgressView",
            "style": "IPY_MODEL_9df70cd65ee54f5dba961680fe01fefb",
            "_dom_classes": [],
            "description": "",
            "_model_name": "FloatProgressModel",
            "bar_style": "success",
            "max": 433,
            "_view_module": "@jupyter-widgets/controls",
            "_model_module_version": "1.5.0",
            "value": 433,
            "_view_count": null,
            "_view_module_version": "1.5.0",
            "orientation": "horizontal",
            "min": 0,
            "description_tooltip": null,
            "_model_module": "@jupyter-widgets/controls",
            "layout": "IPY_MODEL_013dec1bc5064d17a30b7a0869fa885e"
          }
        },
        "d68a5eca1b434bcea8287cdc15a39c9f": {
          "model_module": "@jupyter-widgets/controls",
          "model_name": "HTMLModel",
          "model_module_version": "1.5.0",
          "state": {
            "_view_name": "HTMLView",
            "style": "IPY_MODEL_d9c36f933de4432282ffd0c8cea23656",
            "_dom_classes": [],
            "description": "",
            "_model_name": "HTMLModel",
            "placeholder": "​",
            "_view_module": "@jupyter-widgets/controls",
            "_model_module_version": "1.5.0",
            "value": " 433/433 [00:00&lt;00:00, 9.97kB/s]",
            "_view_count": null,
            "_view_module_version": "1.5.0",
            "description_tooltip": null,
            "_model_module": "@jupyter-widgets/controls",
            "layout": "IPY_MODEL_7389ecbe9fd7402e90ca23a0b85f7ec7"
          }
        },
        "fe8a076b7acf4fed88c82ea28cc8afba": {
          "model_module": "@jupyter-widgets/controls",
          "model_name": "DescriptionStyleModel",
          "model_module_version": "1.5.0",
          "state": {
            "_view_name": "StyleView",
            "_model_name": "DescriptionStyleModel",
            "description_width": "",
            "_view_module": "@jupyter-widgets/base",
            "_model_module_version": "1.5.0",
            "_view_count": null,
            "_view_module_version": "1.2.0",
            "_model_module": "@jupyter-widgets/controls"
          }
        },
        "d2c674665c9340eb8f77a02ec10d794b": {
          "model_module": "@jupyter-widgets/base",
          "model_name": "LayoutModel",
          "model_module_version": "1.2.0",
          "state": {
            "_view_name": "LayoutView",
            "grid_template_rows": null,
            "right": null,
            "justify_content": null,
            "_view_module": "@jupyter-widgets/base",
            "overflow": null,
            "_model_module_version": "1.2.0",
            "_view_count": null,
            "flex_flow": null,
            "width": null,
            "min_width": null,
            "border": null,
            "align_items": null,
            "bottom": null,
            "_model_module": "@jupyter-widgets/base",
            "top": null,
            "grid_column": null,
            "overflow_y": null,
            "overflow_x": null,
            "grid_auto_flow": null,
            "grid_area": null,
            "grid_template_columns": null,
            "flex": null,
            "_model_name": "LayoutModel",
            "justify_items": null,
            "grid_row": null,
            "max_height": null,
            "align_content": null,
            "visibility": null,
            "align_self": null,
            "height": null,
            "min_height": null,
            "padding": null,
            "grid_auto_rows": null,
            "grid_gap": null,
            "max_width": null,
            "order": null,
            "_view_module_version": "1.2.0",
            "grid_template_areas": null,
            "object_position": null,
            "object_fit": null,
            "grid_auto_columns": null,
            "margin": null,
            "display": null,
            "left": null
          }
        },
        "9df70cd65ee54f5dba961680fe01fefb": {
          "model_module": "@jupyter-widgets/controls",
          "model_name": "ProgressStyleModel",
          "model_module_version": "1.5.0",
          "state": {
            "_view_name": "StyleView",
            "_model_name": "ProgressStyleModel",
            "description_width": "",
            "_view_module": "@jupyter-widgets/base",
            "_model_module_version": "1.5.0",
            "_view_count": null,
            "_view_module_version": "1.2.0",
            "bar_color": null,
            "_model_module": "@jupyter-widgets/controls"
          }
        },
        "013dec1bc5064d17a30b7a0869fa885e": {
          "model_module": "@jupyter-widgets/base",
          "model_name": "LayoutModel",
          "model_module_version": "1.2.0",
          "state": {
            "_view_name": "LayoutView",
            "grid_template_rows": null,
            "right": null,
            "justify_content": null,
            "_view_module": "@jupyter-widgets/base",
            "overflow": null,
            "_model_module_version": "1.2.0",
            "_view_count": null,
            "flex_flow": null,
            "width": null,
            "min_width": null,
            "border": null,
            "align_items": null,
            "bottom": null,
            "_model_module": "@jupyter-widgets/base",
            "top": null,
            "grid_column": null,
            "overflow_y": null,
            "overflow_x": null,
            "grid_auto_flow": null,
            "grid_area": null,
            "grid_template_columns": null,
            "flex": null,
            "_model_name": "LayoutModel",
            "justify_items": null,
            "grid_row": null,
            "max_height": null,
            "align_content": null,
            "visibility": null,
            "align_self": null,
            "height": null,
            "min_height": null,
            "padding": null,
            "grid_auto_rows": null,
            "grid_gap": null,
            "max_width": null,
            "order": null,
            "_view_module_version": "1.2.0",
            "grid_template_areas": null,
            "object_position": null,
            "object_fit": null,
            "grid_auto_columns": null,
            "margin": null,
            "display": null,
            "left": null
          }
        },
        "d9c36f933de4432282ffd0c8cea23656": {
          "model_module": "@jupyter-widgets/controls",
          "model_name": "DescriptionStyleModel",
          "model_module_version": "1.5.0",
          "state": {
            "_view_name": "StyleView",
            "_model_name": "DescriptionStyleModel",
            "description_width": "",
            "_view_module": "@jupyter-widgets/base",
            "_model_module_version": "1.5.0",
            "_view_count": null,
            "_view_module_version": "1.2.0",
            "_model_module": "@jupyter-widgets/controls"
          }
        },
        "7389ecbe9fd7402e90ca23a0b85f7ec7": {
          "model_module": "@jupyter-widgets/base",
          "model_name": "LayoutModel",
          "model_module_version": "1.2.0",
          "state": {
            "_view_name": "LayoutView",
            "grid_template_rows": null,
            "right": null,
            "justify_content": null,
            "_view_module": "@jupyter-widgets/base",
            "overflow": null,
            "_model_module_version": "1.2.0",
            "_view_count": null,
            "flex_flow": null,
            "width": null,
            "min_width": null,
            "border": null,
            "align_items": null,
            "bottom": null,
            "_model_module": "@jupyter-widgets/base",
            "top": null,
            "grid_column": null,
            "overflow_y": null,
            "overflow_x": null,
            "grid_auto_flow": null,
            "grid_area": null,
            "grid_template_columns": null,
            "flex": null,
            "_model_name": "LayoutModel",
            "justify_items": null,
            "grid_row": null,
            "max_height": null,
            "align_content": null,
            "visibility": null,
            "align_self": null,
            "height": null,
            "min_height": null,
            "padding": null,
            "grid_auto_rows": null,
            "grid_gap": null,
            "max_width": null,
            "order": null,
            "_view_module_version": "1.2.0",
            "grid_template_areas": null,
            "object_position": null,
            "object_fit": null,
            "grid_auto_columns": null,
            "margin": null,
            "display": null,
            "left": null
          }
        },
        "23d0bbd3621349eb9b39dd42fcb46d30": {
          "model_module": "@jupyter-widgets/controls",
          "model_name": "HBoxModel",
          "model_module_version": "1.5.0",
          "state": {
            "_view_name": "HBoxView",
            "_dom_classes": [],
            "_model_name": "HBoxModel",
            "_view_module": "@jupyter-widgets/controls",
            "_model_module_version": "1.5.0",
            "_view_count": null,
            "_view_module_version": "1.5.0",
            "box_style": "",
            "layout": "IPY_MODEL_66f1ec8d39f34a2aa46c4e2e1d8a3b90",
            "_model_module": "@jupyter-widgets/controls",
            "children": [
              "IPY_MODEL_f9d051316be54dbaadacb4e3140a8365",
              "IPY_MODEL_389f7141da9047c48d2317f1acf5b6cb",
              "IPY_MODEL_9e573cb580094f1aaeb0ade7e3ae731d"
            ]
          }
        },
        "66f1ec8d39f34a2aa46c4e2e1d8a3b90": {
          "model_module": "@jupyter-widgets/base",
          "model_name": "LayoutModel",
          "model_module_version": "1.2.0",
          "state": {
            "_view_name": "LayoutView",
            "grid_template_rows": null,
            "right": null,
            "justify_content": null,
            "_view_module": "@jupyter-widgets/base",
            "overflow": null,
            "_model_module_version": "1.2.0",
            "_view_count": null,
            "flex_flow": null,
            "width": null,
            "min_width": null,
            "border": null,
            "align_items": null,
            "bottom": null,
            "_model_module": "@jupyter-widgets/base",
            "top": null,
            "grid_column": null,
            "overflow_y": null,
            "overflow_x": null,
            "grid_auto_flow": null,
            "grid_area": null,
            "grid_template_columns": null,
            "flex": null,
            "_model_name": "LayoutModel",
            "justify_items": null,
            "grid_row": null,
            "max_height": null,
            "align_content": null,
            "visibility": null,
            "align_self": null,
            "height": null,
            "min_height": null,
            "padding": null,
            "grid_auto_rows": null,
            "grid_gap": null,
            "max_width": null,
            "order": null,
            "_view_module_version": "1.2.0",
            "grid_template_areas": null,
            "object_position": null,
            "object_fit": null,
            "grid_auto_columns": null,
            "margin": null,
            "display": null,
            "left": null
          }
        },
        "f9d051316be54dbaadacb4e3140a8365": {
          "model_module": "@jupyter-widgets/controls",
          "model_name": "HTMLModel",
          "model_module_version": "1.5.0",
          "state": {
            "_view_name": "HTMLView",
            "style": "IPY_MODEL_f7fdc179dff74698a1819a03133683d7",
            "_dom_classes": [],
            "description": "",
            "_model_name": "HTMLModel",
            "placeholder": "​",
            "_view_module": "@jupyter-widgets/controls",
            "_model_module_version": "1.5.0",
            "value": "Downloading: 100%",
            "_view_count": null,
            "_view_module_version": "1.5.0",
            "description_tooltip": null,
            "_model_module": "@jupyter-widgets/controls",
            "layout": "IPY_MODEL_75ec8d9cbf9b4459bab1cb3e00427345"
          }
        },
        "389f7141da9047c48d2317f1acf5b6cb": {
          "model_module": "@jupyter-widgets/controls",
          "model_name": "FloatProgressModel",
          "model_module_version": "1.5.0",
          "state": {
            "_view_name": "ProgressView",
            "style": "IPY_MODEL_ca0e39000cd44f0790fb7e541f36ffef",
            "_dom_classes": [],
            "description": "",
            "_model_name": "FloatProgressModel",
            "bar_style": "success",
            "max": 536063208,
            "_view_module": "@jupyter-widgets/controls",
            "_model_module_version": "1.5.0",
            "value": 536063208,
            "_view_count": null,
            "_view_module_version": "1.5.0",
            "orientation": "horizontal",
            "min": 0,
            "description_tooltip": null,
            "_model_module": "@jupyter-widgets/controls",
            "layout": "IPY_MODEL_06b6c074004648e79bd49b2538b96894"
          }
        },
        "9e573cb580094f1aaeb0ade7e3ae731d": {
          "model_module": "@jupyter-widgets/controls",
          "model_name": "HTMLModel",
          "model_module_version": "1.5.0",
          "state": {
            "_view_name": "HTMLView",
            "style": "IPY_MODEL_ad33bde69b8a4da4adc7c1ca882d4c74",
            "_dom_classes": [],
            "description": "",
            "_model_name": "HTMLModel",
            "placeholder": "​",
            "_view_module": "@jupyter-widgets/controls",
            "_model_module_version": "1.5.0",
            "value": " 536M/536M [00:15&lt;00:00, 33.0MB/s]",
            "_view_count": null,
            "_view_module_version": "1.5.0",
            "description_tooltip": null,
            "_model_module": "@jupyter-widgets/controls",
            "layout": "IPY_MODEL_b15a8c88542d4ac4939a594247f50de3"
          }
        },
        "f7fdc179dff74698a1819a03133683d7": {
          "model_module": "@jupyter-widgets/controls",
          "model_name": "DescriptionStyleModel",
          "model_module_version": "1.5.0",
          "state": {
            "_view_name": "StyleView",
            "_model_name": "DescriptionStyleModel",
            "description_width": "",
            "_view_module": "@jupyter-widgets/base",
            "_model_module_version": "1.5.0",
            "_view_count": null,
            "_view_module_version": "1.2.0",
            "_model_module": "@jupyter-widgets/controls"
          }
        },
        "75ec8d9cbf9b4459bab1cb3e00427345": {
          "model_module": "@jupyter-widgets/base",
          "model_name": "LayoutModel",
          "model_module_version": "1.2.0",
          "state": {
            "_view_name": "LayoutView",
            "grid_template_rows": null,
            "right": null,
            "justify_content": null,
            "_view_module": "@jupyter-widgets/base",
            "overflow": null,
            "_model_module_version": "1.2.0",
            "_view_count": null,
            "flex_flow": null,
            "width": null,
            "min_width": null,
            "border": null,
            "align_items": null,
            "bottom": null,
            "_model_module": "@jupyter-widgets/base",
            "top": null,
            "grid_column": null,
            "overflow_y": null,
            "overflow_x": null,
            "grid_auto_flow": null,
            "grid_area": null,
            "grid_template_columns": null,
            "flex": null,
            "_model_name": "LayoutModel",
            "justify_items": null,
            "grid_row": null,
            "max_height": null,
            "align_content": null,
            "visibility": null,
            "align_self": null,
            "height": null,
            "min_height": null,
            "padding": null,
            "grid_auto_rows": null,
            "grid_gap": null,
            "max_width": null,
            "order": null,
            "_view_module_version": "1.2.0",
            "grid_template_areas": null,
            "object_position": null,
            "object_fit": null,
            "grid_auto_columns": null,
            "margin": null,
            "display": null,
            "left": null
          }
        },
        "ca0e39000cd44f0790fb7e541f36ffef": {
          "model_module": "@jupyter-widgets/controls",
          "model_name": "ProgressStyleModel",
          "model_module_version": "1.5.0",
          "state": {
            "_view_name": "StyleView",
            "_model_name": "ProgressStyleModel",
            "description_width": "",
            "_view_module": "@jupyter-widgets/base",
            "_model_module_version": "1.5.0",
            "_view_count": null,
            "_view_module_version": "1.2.0",
            "bar_color": null,
            "_model_module": "@jupyter-widgets/controls"
          }
        },
        "06b6c074004648e79bd49b2538b96894": {
          "model_module": "@jupyter-widgets/base",
          "model_name": "LayoutModel",
          "model_module_version": "1.2.0",
          "state": {
            "_view_name": "LayoutView",
            "grid_template_rows": null,
            "right": null,
            "justify_content": null,
            "_view_module": "@jupyter-widgets/base",
            "overflow": null,
            "_model_module_version": "1.2.0",
            "_view_count": null,
            "flex_flow": null,
            "width": null,
            "min_width": null,
            "border": null,
            "align_items": null,
            "bottom": null,
            "_model_module": "@jupyter-widgets/base",
            "top": null,
            "grid_column": null,
            "overflow_y": null,
            "overflow_x": null,
            "grid_auto_flow": null,
            "grid_area": null,
            "grid_template_columns": null,
            "flex": null,
            "_model_name": "LayoutModel",
            "justify_items": null,
            "grid_row": null,
            "max_height": null,
            "align_content": null,
            "visibility": null,
            "align_self": null,
            "height": null,
            "min_height": null,
            "padding": null,
            "grid_auto_rows": null,
            "grid_gap": null,
            "max_width": null,
            "order": null,
            "_view_module_version": "1.2.0",
            "grid_template_areas": null,
            "object_position": null,
            "object_fit": null,
            "grid_auto_columns": null,
            "margin": null,
            "display": null,
            "left": null
          }
        },
        "ad33bde69b8a4da4adc7c1ca882d4c74": {
          "model_module": "@jupyter-widgets/controls",
          "model_name": "DescriptionStyleModel",
          "model_module_version": "1.5.0",
          "state": {
            "_view_name": "StyleView",
            "_model_name": "DescriptionStyleModel",
            "description_width": "",
            "_view_module": "@jupyter-widgets/base",
            "_model_module_version": "1.5.0",
            "_view_count": null,
            "_view_module_version": "1.2.0",
            "_model_module": "@jupyter-widgets/controls"
          }
        },
        "b15a8c88542d4ac4939a594247f50de3": {
          "model_module": "@jupyter-widgets/base",
          "model_name": "LayoutModel",
          "model_module_version": "1.2.0",
          "state": {
            "_view_name": "LayoutView",
            "grid_template_rows": null,
            "right": null,
            "justify_content": null,
            "_view_module": "@jupyter-widgets/base",
            "overflow": null,
            "_model_module_version": "1.2.0",
            "_view_count": null,
            "flex_flow": null,
            "width": null,
            "min_width": null,
            "border": null,
            "align_items": null,
            "bottom": null,
            "_model_module": "@jupyter-widgets/base",
            "top": null,
            "grid_column": null,
            "overflow_y": null,
            "overflow_x": null,
            "grid_auto_flow": null,
            "grid_area": null,
            "grid_template_columns": null,
            "flex": null,
            "_model_name": "LayoutModel",
            "justify_items": null,
            "grid_row": null,
            "max_height": null,
            "align_content": null,
            "visibility": null,
            "align_self": null,
            "height": null,
            "min_height": null,
            "padding": null,
            "grid_auto_rows": null,
            "grid_gap": null,
            "max_width": null,
            "order": null,
            "_view_module_version": "1.2.0",
            "grid_template_areas": null,
            "object_position": null,
            "object_fit": null,
            "grid_auto_columns": null,
            "margin": null,
            "display": null,
            "left": null
          }
        }
      }
    }
  },
  "cells": [
    {
      "cell_type": "markdown",
      "metadata": {
        "id": "view-in-github",
        "colab_type": "text"
      },
      "source": [
        "<a href=\"https://colab.research.google.com/github/RyanTokManMokMTM/NLP_Final/blob/main/nlp_getting_started.ipynb\" target=\"_parent\"><img src=\"https://colab.research.google.com/assets/colab-badge.svg\" alt=\"Open In Colab\"/></a>"
      ]
    },
    {
      "cell_type": "markdown",
      "metadata": {
        "id": "pry2qSCl01cA"
      },
      "source": [
        "# Simple Kaggle Compitition with NLP\n",
        "## Natural Language Processing with Disaster Tweets"
      ]
    },
    {
      "cell_type": "markdown",
      "metadata": {
        "id": "AMPilt5-3FEQ"
      },
      "source": [
        "### load package"
      ]
    },
    {
      "cell_type": "code",
      "metadata": {
        "colab": {
          "base_uri": "https://localhost:8080/"
        },
        "id": "jVx7kZnrS777",
        "outputId": "4a57b38d-b9b4-491a-89df-8f57201582c3"
      },
      "source": [
        "#install package\n",
        "!pip install transformers"
      ],
      "execution_count": 4,
      "outputs": [
        {
          "output_type": "stream",
          "text": [
            "Requirement already satisfied: transformers in /usr/local/lib/python3.7/dist-packages (4.9.2)\n",
            "Requirement already satisfied: numpy>=1.17 in /usr/local/lib/python3.7/dist-packages (from transformers) (1.19.5)\n",
            "Requirement already satisfied: huggingface-hub==0.0.12 in /usr/local/lib/python3.7/dist-packages (from transformers) (0.0.12)\n",
            "Requirement already satisfied: requests in /usr/local/lib/python3.7/dist-packages (from transformers) (2.23.0)\n",
            "Requirement already satisfied: tokenizers<0.11,>=0.10.1 in /usr/local/lib/python3.7/dist-packages (from transformers) (0.10.3)\n",
            "Requirement already satisfied: filelock in /usr/local/lib/python3.7/dist-packages (from transformers) (3.0.12)\n",
            "Requirement already satisfied: regex!=2019.12.17 in /usr/local/lib/python3.7/dist-packages (from transformers) (2019.12.20)\n",
            "Requirement already satisfied: tqdm>=4.27 in /usr/local/lib/python3.7/dist-packages (from transformers) (4.62.0)\n",
            "Requirement already satisfied: importlib-metadata in /usr/local/lib/python3.7/dist-packages (from transformers) (4.6.4)\n",
            "Requirement already satisfied: packaging in /usr/local/lib/python3.7/dist-packages (from transformers) (21.0)\n",
            "Requirement already satisfied: sacremoses in /usr/local/lib/python3.7/dist-packages (from transformers) (0.0.45)\n",
            "Requirement already satisfied: pyyaml>=5.1 in /usr/local/lib/python3.7/dist-packages (from transformers) (5.4.1)\n",
            "Requirement already satisfied: typing-extensions in /usr/local/lib/python3.7/dist-packages (from huggingface-hub==0.0.12->transformers) (3.7.4.3)\n",
            "Requirement already satisfied: pyparsing>=2.0.2 in /usr/local/lib/python3.7/dist-packages (from packaging->transformers) (2.4.7)\n",
            "Requirement already satisfied: zipp>=0.5 in /usr/local/lib/python3.7/dist-packages (from importlib-metadata->transformers) (3.5.0)\n",
            "Requirement already satisfied: chardet<4,>=3.0.2 in /usr/local/lib/python3.7/dist-packages (from requests->transformers) (3.0.4)\n",
            "Requirement already satisfied: idna<3,>=2.5 in /usr/local/lib/python3.7/dist-packages (from requests->transformers) (2.10)\n",
            "Requirement already satisfied: certifi>=2017.4.17 in /usr/local/lib/python3.7/dist-packages (from requests->transformers) (2021.5.30)\n",
            "Requirement already satisfied: urllib3!=1.25.0,!=1.25.1,<1.26,>=1.21.1 in /usr/local/lib/python3.7/dist-packages (from requests->transformers) (1.24.3)\n",
            "Requirement already satisfied: click in /usr/local/lib/python3.7/dist-packages (from sacremoses->transformers) (7.1.2)\n",
            "Requirement already satisfied: six in /usr/local/lib/python3.7/dist-packages (from sacremoses->transformers) (1.15.0)\n",
            "Requirement already satisfied: joblib in /usr/local/lib/python3.7/dist-packages (from sacremoses->transformers) (1.0.1)\n"
          ],
          "name": "stdout"
        }
      ]
    },
    {
      "cell_type": "code",
      "metadata": {
        "colab": {
          "base_uri": "https://localhost:8080/"
        },
        "id": "Yw5lvO58_26T",
        "outputId": "bee8ccb0-72f1-4469-84a1-7d88be41d006"
      },
      "source": [
        "#package import here\n",
        "from google.colab import drive\n",
        "import pandas as pd\n",
        "import nltk.corpus\n",
        "from nltk.corpus import stopwords\n",
        "import re\n",
        "nltk.download('stopwords')\n",
        "\n",
        "from sklearn.pipeline import Pipeline\n",
        "from sklearn.linear_model import SGDClassifier\n",
        "from sklearn.feature_extraction.text import TfidfTransformer\n",
        "from sklearn.feature_extraction.text import TfidfVectorizer\n",
        "from sklearn.feature_extraction.text import CountVectorizer\n",
        "from sklearn.metrics import classification_report\n",
        "from sklearn.ensemble import RandomForestClassifier\n",
        "from sklearn.model_selection import train_test_split\n",
        "\n",
        "from transformers import BertTokenizer,BertConfig,TFBertModel\n",
        "import numpy as np\n",
        "import keras"
      ],
      "execution_count": 5,
      "outputs": [
        {
          "output_type": "stream",
          "text": [
            "[nltk_data] Downloading package stopwords to /root/nltk_data...\n",
            "[nltk_data]   Package stopwords is already up-to-date!\n"
          ],
          "name": "stdout"
        }
      ]
    },
    {
      "cell_type": "markdown",
      "metadata": {
        "id": "g_zFkBV8090_"
      },
      "source": [
        "### loading the data from csv"
      ]
    },
    {
      "cell_type": "code",
      "metadata": {
        "id": "oVwPXWfA_xDL"
      },
      "source": [
        "def dataLoader(csvPath):\n",
        "  return pd.read_csv(csvPath,encoding=\"utf-8\")"
      ],
      "execution_count": 6,
      "outputs": []
    },
    {
      "cell_type": "markdown",
      "metadata": {
        "id": "94GjPi_Io2B3"
      },
      "source": [
        "#### Define a function to remove the html url etc"
      ]
    },
    {
      "cell_type": "code",
      "metadata": {
        "id": "4GLWEQQuEyDJ"
      },
      "source": [
        "#define a clean text function\n",
        "def clean_texts(text):\n",
        "  text = text.lower()\n",
        "  #clean all not a-zA-z0-9 text\n",
        "  textRe = re.compile(\"(@[A-Za-z0-9]+)|([^0-9A-Za-z \\t])|(\\w+:\\/\\/\\S+)|^rt|http.+?\")\n",
        "  return textRe.sub(\"\",text)"
      ],
      "execution_count": 7,
      "outputs": []
    },
    {
      "cell_type": "markdown",
      "metadata": {
        "id": "vR6RP8L7LneN"
      },
      "source": [
        "#### need to clean all stop word with cleaning words list\n",
        "#### stopword list with NL Toolkit stopword.word(english)"
      ]
    },
    {
      "cell_type": "code",
      "metadata": {
        "id": "wxTSgx_bMxbP"
      },
      "source": [
        "#clean all stop words in each sentance\n",
        "def clean_stop_word(cleanTxt):\n",
        "  return \" \".join([word for word in cleanTxt.split() if not word in stopwordsList])"
      ],
      "execution_count": 8,
      "outputs": []
    },
    {
      "cell_type": "markdown",
      "metadata": {
        "id": "xqOF5iZ0TjTs"
      },
      "source": [
        "### Basic SGDClassifer(0.77)"
      ]
    },
    {
      "cell_type": "code",
      "metadata": {
        "id": "DadXR23hDA9Z"
      },
      "source": [
        "def classifiedWithSGD(feature_x,label_y):\n",
        "  #init the pieple for sgd\n",
        "  sgd = Pipeline([\n",
        "      ('vect', CountVectorizer()),\n",
        "      ('tfidf',  TfidfTransformer()),\n",
        "      ('nb', SGDClassifier()),\n",
        "    ])\n",
        "    #fit the data to model\n",
        "  model = sgd.fit(feature_x, label_y)\n",
        "  return model"
      ],
      "execution_count": 9,
      "outputs": []
    },
    {
      "cell_type": "markdown",
      "metadata": {
        "id": "xjQSrohqQVSu"
      },
      "source": [
        "### Tokenization\n",
        "#### make the word as a vector of each sentence"
      ]
    },
    {
      "cell_type": "code",
      "metadata": {
        "id": "vc9mf9FXFZnn"
      },
      "source": [
        "#init CountVectorizer  \n",
        "vectorizer = CountVectorizer(analyzer=\"word\",tokenizer=None,preprocessor=None,stop_words=None)\n",
        "def tokenizationAndFitModel(featureSet):\n",
        "  #fit the model with set\n",
        "  return vectorizer.fit_transform(featureSet).toarray()\n",
        "\n",
        "def tokenizationAndTranform(featureSet):\n",
        "  #fit the model with set\n",
        "  return vectorizer.transform(featureSet)\n"
      ],
      "execution_count": 10,
      "outputs": []
    },
    {
      "cell_type": "markdown",
      "metadata": {
        "id": "rQTelF7Aajd3"
      },
      "source": [
        "### Trying on Bert Model(0.57033),may need some more epoch and batch size"
      ]
    },
    {
      "cell_type": "code",
      "metadata": {
        "id": "_vfzPt-sUWgt"
      },
      "source": [
        "def generateModelArray(featureData,tokenizer,maxLength):\n",
        "  ids = []\n",
        "  masks = []\n",
        "  tokens = []\n",
        "  for text in featureData:\n",
        "    token = tokenizer.encode(text,max_length=maxLength)\n",
        "    padding_size = maxLength - len(token)\n",
        "    ids.append(token + [0]*padding_size)\n",
        "    masks.append([1]*len(token) + [0]*padding_size) #only token is 1 other padding to 0\n",
        "    tokens.append([0]*maxLength) #all 0\n",
        "  ids = np.array(ids)\n",
        "  masks = np.array(masks)\n",
        "  tokens = np.array(tokens)\n",
        "  return ids, masks,tokens"
      ],
      "execution_count": 11,
      "outputs": []
    },
    {
      "cell_type": "code",
      "metadata": {
        "id": "KPf3wwsSTHtu"
      },
      "source": [
        "BATCH_SIZE = 32\n",
        "MAX_SIZE = 128\n",
        "EPOCHS = 5\n",
        "\n",
        "def createBertModel(featureData,labelData):\n",
        "  tokenizer = BertTokenizer.from_pretrained(\"https://s3.amazonaws.com/models.huggingface.co/bert/bert-base-uncased-vocab.txt\")\n",
        "  config = BertConfig.from_pretrained(\"https://s3.amazonaws.com/models.huggingface.co/bert/bert-base-uncased-config.json\")\n",
        "  bert_model = TFBertModel.from_pretrained(\"https://s3.amazonaws.com/models.huggingface.co/bert/bert-base-uncased-tf_model.h5\",config=config)\n",
        "\n",
        "  train_ids, train_mask,train_token = generateModelArray(featureData,tokenizer,MAX_SIZE)\n",
        "\n",
        "  #train Label to np array\n",
        "  train_label = np.array(labelData)\n",
        "\n",
        "\n",
        "  #model argument  and 3 input\n",
        "  input_ids = keras.layers.Input(shape=(MAX_SIZE,),dtype='int32')\n",
        "  attension_mask = keras.layers.Input(shape=(MAX_SIZE,),dtype='int32')\n",
        "  token_type_ids = keras.layers.Input(shape=(MAX_SIZE,),dtype='int32')\n",
        "\n",
        "  Bertmodel  = bert_model([input_ids,attension_mask,token_type_ids])\n",
        "  lastStateOutPut = Bertmodel.last_hidden_state\n",
        "  poolerOutput =  Bertmodel.pooler_output\n",
        "\n",
        "  #model output layer\n",
        "  denseOutput = keras.layers.Dense(units=1,activation=\"sigmoid\")(poolerOutput)\n",
        "\n",
        "  #creating model\n",
        "  model = keras.models.Model(inputs=[input_ids,attension_mask,token_type_ids],outputs = denseOutput)\n",
        "\n",
        "  #model compile\n",
        "  model.compile(loss=\"binary_crossentropy\",optimizer=\"adam\",metrics=['accuracy'])\n",
        "\n",
        "  #training model\n",
        "  #data set for train and test\n",
        "  (x_train_ids,x_test_index,x_train_mask,x_test_mask,x_train_token,x_test_token,y_train,y_test)= train_test_split(train_ids,train_mask,train_token,train_label,test_size = 0.1,stratify=train_label, random_state=0)\n",
        "  \n",
        "  print(x_train_ids)\n",
        "  #early_stopping\n",
        "  training_early_stopping = keras.callbacks.EarlyStopping(patience=3,restore_best_weights=True)\n",
        "\n",
        "  #fit model\n",
        "  model.fit([x_train_ids,x_train_mask,x_train_token],y_train,epochs=EPOCHS,batch_size=BATCH_SIZE,validation_data=([x_test_index,x_test_mask,x_test_token],y_test),callbacks=[training_early_stopping])\n",
        "\n",
        "  return model,tokenizer\n"
      ],
      "execution_count": 35,
      "outputs": []
    },
    {
      "cell_type": "code",
      "metadata": {
        "id": "dCXCHR6TJpTx"
      },
      "source": [
        "# #predict the model\n",
        "# y_predicted = model.predict([test_ids,test_mask,test_token],batch_size=32,verbose=1)"
      ],
      "execution_count": 13,
      "outputs": []
    },
    {
      "cell_type": "code",
      "metadata": {
        "id": "BiIs8t0wLwna"
      },
      "source": [
        "# y_predicted = y_predicted.ravel()"
      ],
      "execution_count": 14,
      "outputs": []
    },
    {
      "cell_type": "code",
      "metadata": {
        "id": "9tqM4m8KL1yx"
      },
      "source": [
        "# y_predicted = (y_predicted >= 0.5).astype(int)"
      ],
      "execution_count": 15,
      "outputs": []
    },
    {
      "cell_type": "code",
      "metadata": {
        "id": "18KVv1f3E57_"
      },
      "source": [
        "# def outputSubmission(submissionFile,outputCsv):\n",
        "#   predict_submission = pd.read_csv(\"sample_submission.csv\")\n",
        "#   predict_submission[\"target\"] = predict\n",
        "#   predict_submission.to_csv(\"nlp_submission_sgd.csv\",index = False)"
      ],
      "execution_count": 16,
      "outputs": []
    },
    {
      "cell_type": "markdown",
      "metadata": {
        "id": "EcV8Q9SG_ixD"
      },
      "source": [
        "# Main process is running here"
      ]
    },
    {
      "cell_type": "code",
      "metadata": {
        "id": "jrLXTeInInWl"
      },
      "source": [
        "def process_SGD(featureData,lableData,predictFeature):\n",
        "  x_train,x_test,y_train,y_test = train_test_split(featureData,lableData,random_state = 0)\n",
        "  model = classifiedWithSGD(x_train,y_train)\n",
        "\n",
        "  #predict test data set\n",
        "  predict = model.predict(x_test)\n",
        "  #show predict report\n",
        "  print(classification_report(y_test,predict))\n",
        "\n",
        "  predictResult = model.predict(predictFeature)\n",
        "  return predictResult"
      ],
      "execution_count": 17,
      "outputs": []
    },
    {
      "cell_type": "code",
      "metadata": {
        "id": "1F6NAAx0JZYc"
      },
      "source": [
        "def process_RFC(featureData,lableData,predictFeature):\n",
        "  x_train,x_test,y_train,y_test = train_test_split(featureData,lableData,random_state = 0)\n",
        "  #need to tokenization word to vector\n",
        "  feature_vector = tokenizationAndFitModel(x_train)\n",
        "  \n",
        "  #create the model\n",
        "  RFC = RandomForestClassifier(n_estimators=100)\n",
        "\n",
        "  #fit moodel with tokenization vector\n",
        "  RFC = RFC.fit(feature_vector,y_train)\n",
        "  test_vector = tokenizationAndTranform(x_test)\n",
        "  # #predict \n",
        "  RFCPredict = RFC.predict(test_vector)\n",
        "\n",
        "  #print predict report\n",
        "  print(classification_report(y_test,RFCPredict))\n",
        "\n",
        "  #predict the result with testSet\n",
        "  test_setVector = tokenizationAndTranform(testSetFeature)\n",
        "  RFCPredict = RFC.predict(test_setVector)\n",
        "  return RFCPredict"
      ],
      "execution_count": 31,
      "outputs": []
    },
    {
      "cell_type": "code",
      "metadata": {
        "id": "OyKVJ5gELgXT"
      },
      "source": [
        "def process_bert(featureData, labelData,predictFeature):\n",
        "  model,tokenizer = createBertModel(featureData, labelData)\n",
        "\n",
        "  #predict with model\n",
        "  predict_ids,predict_masks,predict_tokens = generateModelArray(predictFeature,tokenizer)\n",
        "  preicted_result = model.predict([predict_ids,predict_masks,predict_tokens],batch_size=64,verbose=1)\n",
        "  preicted_result = preicted_result.ravel()\n",
        "  preicted_result = (preicted_result >= 0.5).astype(int)\n",
        "  return preicted_result"
      ],
      "execution_count": 36,
      "outputs": []
    },
    {
      "cell_type": "code",
      "metadata": {
        "colab": {
          "base_uri": "https://localhost:8080/",
          "height": 779,
          "referenced_widgets": [
            "8826095e66c84c60bd44d79676d93a80",
            "4309d51c46934364ada0778f707b9c69",
            "fda54d59ca85475ea47a2c43d51920d6",
            "45fefa2890fe45d5b40fba8791aa46c0",
            "5c093026f742451581fb5efb5a29700b",
            "0c4bc27d4254457da9d3d4a1611797a7",
            "6fc199a410f44f40965cfa6615c5f95c",
            "7ac4e75fb5e649acb2a9e50cb3947e65",
            "0cac0c9943a6450189c6d9567e923eb5",
            "92a99d9dffdf4be989755dcaa4dbb9df",
            "ba1dca3d1fb74f159076395bf1d8ac5a",
            "881d320e81054accb2b17b8cfd719e87",
            "81e435401d54451391609961e487d1c5",
            "4b2cdb197601437298c2c71180f7ba18",
            "0757f9caad264c76b9fdbb580116eb1e",
            "d68a5eca1b434bcea8287cdc15a39c9f",
            "fe8a076b7acf4fed88c82ea28cc8afba",
            "d2c674665c9340eb8f77a02ec10d794b",
            "9df70cd65ee54f5dba961680fe01fefb",
            "013dec1bc5064d17a30b7a0869fa885e",
            "d9c36f933de4432282ffd0c8cea23656",
            "7389ecbe9fd7402e90ca23a0b85f7ec7",
            "23d0bbd3621349eb9b39dd42fcb46d30",
            "66f1ec8d39f34a2aa46c4e2e1d8a3b90",
            "f9d051316be54dbaadacb4e3140a8365",
            "389f7141da9047c48d2317f1acf5b6cb",
            "9e573cb580094f1aaeb0ade7e3ae731d",
            "f7fdc179dff74698a1819a03133683d7",
            "75ec8d9cbf9b4459bab1cb3e00427345",
            "ca0e39000cd44f0790fb7e541f36ffef",
            "06b6c074004648e79bd49b2538b96894",
            "ad33bde69b8a4da4adc7c1ca882d4c74",
            "b15a8c88542d4ac4939a594247f50de3"
          ]
        },
        "id": "gSxgWwcA_nC0",
        "outputId": "79d095d4-809e-4fe8-f4ef-2524412a2d30"
      },
      "source": [
        "#main\n",
        "if  __name__ == '__main__':\n",
        "  #login to google drive\n",
        "  drive.mount('/content/gdrive')\n",
        "\n",
        "  train_data = dataLoader(\"./gdrive/MyDrive/NLP_dataset/train.csv\")\n",
        "  test_data = dataLoader(\"./gdrive/MyDrive/NLP_dataset/test.csv\")\n",
        "  submission_data = dataLoader(\"./gdrive/MyDrive/NLP_dataset/sample_submission.csv\")\n",
        "\n",
        "  #drop out the data we don't need it\n",
        "  train_data.drop(['id', 'keyword', 'location'],axis=1)\n",
        "\n",
        "  #split feature and label\n",
        "  features = train_data[\"text\"].tolist()\n",
        "  label = train_data[\"target\"].tolist()\n",
        "  test_features = test_data[\"text\"].tolist()\n",
        "\n",
        "  #all clean training data set(stop words not clean yet)\n",
        "  clean_feature_data = [] #for training\n",
        "  clean_feature_test_data = [] #for testing\n",
        "  for txt in features:\n",
        "    clean_feature_data.append(clean_texts(txt))\n",
        "\n",
        "  for txt in test_features:\n",
        "    clean_feature_test_data.append(clean_texts(txt))\n",
        "  \n",
        "  #get stop word english list\n",
        "  stopwordsList = stopwords.words(\"english\")\n",
        "\n",
        "  #remove all stopword from sentance\n",
        "  all_clean_text = []\n",
        "  all_clean_testSet_text = []\n",
        "  for sentance in clean_feature_data:\n",
        "    all_clean_text.append(clean_stop_word(sentance))\n",
        "  for sentance in clean_feature_test_data:\n",
        "    all_clean_testSet_text.append(clean_stop_word(sentance))\n",
        "\n",
        "  #ged_result = process_SGD(all_clean_text,label,all_clean_testSet_text)\n",
        "  #rfc_result = process_RFC(all_clean_text,label,all_clean_testSet_text)\n",
        "  bert_reuslt = process_bert(all_clean_text,label,all_clean_testSet_text)"
      ],
      "execution_count": null,
      "outputs": [
        {
          "output_type": "stream",
          "text": [
            "Drive already mounted at /content/gdrive; to attempt to forcibly remount, call drive.mount(\"/content/gdrive\", force_remount=True).\n"
          ],
          "name": "stdout"
        },
        {
          "output_type": "stream",
          "text": [
            "/usr/local/lib/python3.7/dist-packages/transformers/tokenization_utils_base.py:1641: FutureWarning: Calling BertTokenizer.from_pretrained() with the path to a single file or url is deprecated and won't be possible anymore in v5. Use a model identifier or the path to a directory instead.\n",
            "  FutureWarning,\n"
          ],
          "name": "stderr"
        },
        {
          "output_type": "display_data",
          "data": {
            "application/vnd.jupyter.widget-view+json": {
              "model_id": "8826095e66c84c60bd44d79676d93a80",
              "version_minor": 0,
              "version_major": 2
            },
            "text/plain": [
              "Downloading:   0%|          | 0.00/232k [00:00<?, ?B/s]"
            ]
          },
          "metadata": {}
        },
        {
          "output_type": "display_data",
          "data": {
            "application/vnd.jupyter.widget-view+json": {
              "model_id": "881d320e81054accb2b17b8cfd719e87",
              "version_minor": 0,
              "version_major": 2
            },
            "text/plain": [
              "Downloading:   0%|          | 0.00/433 [00:00<?, ?B/s]"
            ]
          },
          "metadata": {}
        },
        {
          "output_type": "display_data",
          "data": {
            "application/vnd.jupyter.widget-view+json": {
              "model_id": "23d0bbd3621349eb9b39dd42fcb46d30",
              "version_minor": 0,
              "version_major": 2
            },
            "text/plain": [
              "Downloading:   0%|          | 0.00/536M [00:00<?, ?B/s]"
            ]
          },
          "metadata": {}
        },
        {
          "output_type": "stream",
          "text": [
            "Some layers from the model checkpoint at https://s3.amazonaws.com/models.huggingface.co/bert/bert-base-uncased-tf_model.h5 were not used when initializing TFBertModel: ['mlm___cls', 'nsp___cls']\n",
            "- This IS expected if you are initializing TFBertModel from the checkpoint of a model trained on another task or with another architecture (e.g. initializing a BertForSequenceClassification model from a BertForPreTraining model).\n",
            "- This IS NOT expected if you are initializing TFBertModel from the checkpoint of a model that you expect to be exactly identical (initializing a BertForSequenceClassification model from a BertForSequenceClassification model).\n",
            "All the layers of TFBertModel were initialized from the model checkpoint at https://s3.amazonaws.com/models.huggingface.co/bert/bert-base-uncased-tf_model.h5.\n",
            "If your task is similar to the task the model of the checkpoint was trained on, you can already use TFBertModel for predictions without further training.\n",
            "Truncation was not explicitly activated but `max_length` is provided a specific value, please use `truncation=True` to explicitly truncate examples to max length. Defaulting to 'longest_first' truncation strategy. If you encode pairs of sequences (GLUE-style) with the tokenizer you can select this strategy more precisely by providing a specific strategy to `truncation`.\n"
          ],
          "name": "stderr"
        },
        {
          "output_type": "stream",
          "text": [
            "WARNING:tensorflow:The parameters `output_attentions`, `output_hidden_states` and `use_cache` cannot be updated when calling a model.They have to be set to True/False in the config object (i.e.: `config=XConfig.from_pretrained('name', output_attentions=True)`).\n",
            "WARNING:tensorflow:AutoGraph could not transform <bound method Socket.send of <zmq.Socket(zmq.PUSH) at 0x7f2133a52ec0>> and will run it as-is.\n",
            "Please report this to the TensorFlow team. When filing the bug, set the verbosity to 10 (on Linux, `export AUTOGRAPH_VERBOSITY=10`) and attach the full output.\n",
            "Cause: module, class, method, function, traceback, frame, or code object was expected, got cython_function_or_method\n",
            "To silence this warning, decorate the function with @tf.autograph.experimental.do_not_convert\n",
            "WARNING: AutoGraph could not transform <bound method Socket.send of <zmq.Socket(zmq.PUSH) at 0x7f2133a52ec0>> and will run it as-is.\n",
            "Please report this to the TensorFlow team. When filing the bug, set the verbosity to 10 (on Linux, `export AUTOGRAPH_VERBOSITY=10`) and attach the full output.\n",
            "Cause: module, class, method, function, traceback, frame, or code object was expected, got cython_function_or_method\n",
            "To silence this warning, decorate the function with @tf.autograph.experimental.do_not_convert\n",
            "WARNING:tensorflow:AutoGraph could not transform <function wrap at 0x7f214ec07950> and will run it as-is.\n",
            "Cause: while/else statement not yet supported\n",
            "To silence this warning, decorate the function with @tf.autograph.experimental.do_not_convert\n",
            "WARNING: AutoGraph could not transform <function wrap at 0x7f214ec07950> and will run it as-is.\n",
            "Cause: while/else statement not yet supported\n",
            "To silence this warning, decorate the function with @tf.autograph.experimental.do_not_convert\n",
            "WARNING:tensorflow:The parameter `return_dict` cannot be set in graph mode and will always be set to `True`.\n",
            "[[  101 28997  4971 ...     0     0     0]\n",
            " [  101  5175 11629 ...     0     0     0]\n",
            " [  101  5926 20645 ...     0     0     0]\n",
            " ...\n",
            " [  101  4584  5343 ...     0     0     0]\n",
            " [  101  4575  2987 ...     0     0     0]\n",
            " [  101  2630  4330 ...     0     0     0]]\n",
            "Epoch 1/5\n",
            "WARNING:tensorflow:The parameters `output_attentions`, `output_hidden_states` and `use_cache` cannot be updated when calling a model.They have to be set to True/False in the config object (i.e.: `config=XConfig.from_pretrained('name', output_attentions=True)`).\n",
            "WARNING:tensorflow:The parameter `return_dict` cannot be set in graph mode and will always be set to `True`.\n",
            "WARNING:tensorflow:The parameters `output_attentions`, `output_hidden_states` and `use_cache` cannot be updated when calling a model.They have to be set to True/False in the config object (i.e.: `config=XConfig.from_pretrained('name', output_attentions=True)`).\n",
            "WARNING:tensorflow:The parameter `return_dict` cannot be set in graph mode and will always be set to `True`.\n",
            "  2/215 [..............................] - ETA: 2:26:49 - loss: 0.6737 - accuracy: 0.6406"
          ],
          "name": "stdout"
        }
      ]
    }
  ]
}